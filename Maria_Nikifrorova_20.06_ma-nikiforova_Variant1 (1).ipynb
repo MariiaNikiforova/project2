{
 "cells": [
  {
   "cell_type": "markdown",
   "metadata": {},
   "source": [
    "# ФИНАЛЬНЫЙ ПРОЕКТ                                                                     ВАРИАНТ 1"
   ]
  },
  {
   "cell_type": "markdown",
   "metadata": {},
   "source": [
    "# 1.В первую очередь, его интересует показатель retention. Напишите функцию для его подсчета."
   ]
  },
  {
   "cell_type": "code",
   "execution_count": 4,
   "metadata": {},
   "outputs": [],
   "source": [
    "import pandas as pd"
   ]
  },
  {
   "cell_type": "code",
   "execution_count": 5,
   "metadata": {},
   "outputs": [],
   "source": [
    "reg=pd.read_csv('shared/problem1-reg_data.csv', sep=';')"
   ]
  },
  {
   "cell_type": "code",
   "execution_count": 6,
   "metadata": {},
   "outputs": [
    {
     "data": {
      "text/html": [
       "<div>\n",
       "<style scoped>\n",
       "    .dataframe tbody tr th:only-of-type {\n",
       "        vertical-align: middle;\n",
       "    }\n",
       "\n",
       "    .dataframe tbody tr th {\n",
       "        vertical-align: top;\n",
       "    }\n",
       "\n",
       "    .dataframe thead th {\n",
       "        text-align: right;\n",
       "    }\n",
       "</style>\n",
       "<table border=\"1\" class=\"dataframe\">\n",
       "  <thead>\n",
       "    <tr style=\"text-align: right;\">\n",
       "      <th></th>\n",
       "      <th>reg_ts</th>\n",
       "      <th>uid</th>\n",
       "    </tr>\n",
       "  </thead>\n",
       "  <tbody>\n",
       "    <tr>\n",
       "      <th>0</th>\n",
       "      <td>911382223</td>\n",
       "      <td>1</td>\n",
       "    </tr>\n",
       "    <tr>\n",
       "      <th>1</th>\n",
       "      <td>932683089</td>\n",
       "      <td>2</td>\n",
       "    </tr>\n",
       "    <tr>\n",
       "      <th>2</th>\n",
       "      <td>947802447</td>\n",
       "      <td>3</td>\n",
       "    </tr>\n",
       "    <tr>\n",
       "      <th>3</th>\n",
       "      <td>959523541</td>\n",
       "      <td>4</td>\n",
       "    </tr>\n",
       "    <tr>\n",
       "      <th>4</th>\n",
       "      <td>969103313</td>\n",
       "      <td>5</td>\n",
       "    </tr>\n",
       "  </tbody>\n",
       "</table>\n",
       "</div>"
      ],
      "text/plain": [
       "      reg_ts  uid\n",
       "0  911382223    1\n",
       "1  932683089    2\n",
       "2  947802447    3\n",
       "3  959523541    4\n",
       "4  969103313    5"
      ]
     },
     "execution_count": 6,
     "metadata": {},
     "output_type": "execute_result"
    }
   ],
   "source": [
    "reg.head(5)"
   ]
  },
  {
   "cell_type": "code",
   "execution_count": 7,
   "metadata": {},
   "outputs": [
    {
     "name": "stdout",
     "output_type": "stream",
     "text": [
      "<class 'pandas.core.frame.DataFrame'>\n",
      "RangeIndex: 1000000 entries, 0 to 999999\n",
      "Data columns (total 2 columns):\n",
      " #   Column  Non-Null Count    Dtype\n",
      "---  ------  --------------    -----\n",
      " 0   reg_ts  1000000 non-null  int64\n",
      " 1   uid     1000000 non-null  int64\n",
      "dtypes: int64(2)\n",
      "memory usage: 15.3 MB\n"
     ]
    }
   ],
   "source": [
    "reg.info()"
   ]
  },
  {
   "cell_type": "code",
   "execution_count": 8,
   "metadata": {},
   "outputs": [],
   "source": [
    "auth=pd.read_csv('shared/problem1-auth_data.csv', sep=';')"
   ]
  },
  {
   "cell_type": "code",
   "execution_count": 9,
   "metadata": {},
   "outputs": [
    {
     "data": {
      "text/html": [
       "<div>\n",
       "<style scoped>\n",
       "    .dataframe tbody tr th:only-of-type {\n",
       "        vertical-align: middle;\n",
       "    }\n",
       "\n",
       "    .dataframe tbody tr th {\n",
       "        vertical-align: top;\n",
       "    }\n",
       "\n",
       "    .dataframe thead th {\n",
       "        text-align: right;\n",
       "    }\n",
       "</style>\n",
       "<table border=\"1\" class=\"dataframe\">\n",
       "  <thead>\n",
       "    <tr style=\"text-align: right;\">\n",
       "      <th></th>\n",
       "      <th>auth_ts</th>\n",
       "      <th>uid</th>\n",
       "    </tr>\n",
       "  </thead>\n",
       "  <tbody>\n",
       "    <tr>\n",
       "      <th>0</th>\n",
       "      <td>911382223</td>\n",
       "      <td>1</td>\n",
       "    </tr>\n",
       "    <tr>\n",
       "      <th>1</th>\n",
       "      <td>932683089</td>\n",
       "      <td>2</td>\n",
       "    </tr>\n",
       "    <tr>\n",
       "      <th>2</th>\n",
       "      <td>932921206</td>\n",
       "      <td>2</td>\n",
       "    </tr>\n",
       "    <tr>\n",
       "      <th>3</th>\n",
       "      <td>933393015</td>\n",
       "      <td>2</td>\n",
       "    </tr>\n",
       "    <tr>\n",
       "      <th>4</th>\n",
       "      <td>933875379</td>\n",
       "      <td>2</td>\n",
       "    </tr>\n",
       "  </tbody>\n",
       "</table>\n",
       "</div>"
      ],
      "text/plain": [
       "     auth_ts  uid\n",
       "0  911382223    1\n",
       "1  932683089    2\n",
       "2  932921206    2\n",
       "3  933393015    2\n",
       "4  933875379    2"
      ]
     },
     "execution_count": 9,
     "metadata": {},
     "output_type": "execute_result"
    }
   ],
   "source": [
    "auth.head(5)"
   ]
  },
  {
   "cell_type": "code",
   "execution_count": 10,
   "metadata": {},
   "outputs": [
    {
     "name": "stdout",
     "output_type": "stream",
     "text": [
      "<class 'pandas.core.frame.DataFrame'>\n",
      "RangeIndex: 9601013 entries, 0 to 9601012\n",
      "Data columns (total 2 columns):\n",
      " #   Column   Dtype\n",
      "---  ------   -----\n",
      " 0   auth_ts  int64\n",
      " 1   uid      int64\n",
      "dtypes: int64(2)\n",
      "memory usage: 146.5 MB\n"
     ]
    }
   ],
   "source": [
    "auth.info()"
   ]
  },
  {
   "cell_type": "markdown",
   "metadata": {},
   "source": [
    "Сейчас данные о времени регистрации и информация о времени захода представляет собой данные вида Int64 и показывают количество секунд, прошедших с 1 января 1970 года. На мой взгляд, это не очень удобно для дальнейшей работы, поэтому преобразуем данные в вид год-месяц-день часы-минуты-секунды, а сами данные в datetime64[ns]."
   ]
  },
  {
   "cell_type": "code",
   "execution_count": 11,
   "metadata": {},
   "outputs": [
    {
     "data": {
      "text/html": [
       "<div>\n",
       "<style scoped>\n",
       "    .dataframe tbody tr th:only-of-type {\n",
       "        vertical-align: middle;\n",
       "    }\n",
       "\n",
       "    .dataframe tbody tr th {\n",
       "        vertical-align: top;\n",
       "    }\n",
       "\n",
       "    .dataframe thead th {\n",
       "        text-align: right;\n",
       "    }\n",
       "</style>\n",
       "<table border=\"1\" class=\"dataframe\">\n",
       "  <thead>\n",
       "    <tr style=\"text-align: right;\">\n",
       "      <th></th>\n",
       "      <th>reg_ts</th>\n",
       "      <th>uid</th>\n",
       "      <th>reg_date</th>\n",
       "    </tr>\n",
       "  </thead>\n",
       "  <tbody>\n",
       "    <tr>\n",
       "      <th>0</th>\n",
       "      <td>911382223</td>\n",
       "      <td>1</td>\n",
       "      <td>1998-11-18 09:43:43</td>\n",
       "    </tr>\n",
       "    <tr>\n",
       "      <th>1</th>\n",
       "      <td>932683089</td>\n",
       "      <td>2</td>\n",
       "      <td>1999-07-22 22:38:09</td>\n",
       "    </tr>\n",
       "    <tr>\n",
       "      <th>2</th>\n",
       "      <td>947802447</td>\n",
       "      <td>3</td>\n",
       "      <td>2000-01-13 22:27:27</td>\n",
       "    </tr>\n",
       "    <tr>\n",
       "      <th>3</th>\n",
       "      <td>959523541</td>\n",
       "      <td>4</td>\n",
       "      <td>2000-05-28 14:19:01</td>\n",
       "    </tr>\n",
       "    <tr>\n",
       "      <th>4</th>\n",
       "      <td>969103313</td>\n",
       "      <td>5</td>\n",
       "      <td>2000-09-16 11:21:53</td>\n",
       "    </tr>\n",
       "  </tbody>\n",
       "</table>\n",
       "</div>"
      ],
      "text/plain": [
       "      reg_ts  uid            reg_date\n",
       "0  911382223    1 1998-11-18 09:43:43\n",
       "1  932683089    2 1999-07-22 22:38:09\n",
       "2  947802447    3 2000-01-13 22:27:27\n",
       "3  959523541    4 2000-05-28 14:19:01\n",
       "4  969103313    5 2000-09-16 11:21:53"
      ]
     },
     "execution_count": 11,
     "metadata": {},
     "output_type": "execute_result"
    }
   ],
   "source": [
    "reg['reg_date'] = pd.to_datetime(reg['reg_ts'], unit='s')\n",
    "reg.head(5)"
   ]
  },
  {
   "cell_type": "code",
   "execution_count": 12,
   "metadata": {},
   "outputs": [
    {
     "data": {
      "text/html": [
       "<div>\n",
       "<style scoped>\n",
       "    .dataframe tbody tr th:only-of-type {\n",
       "        vertical-align: middle;\n",
       "    }\n",
       "\n",
       "    .dataframe tbody tr th {\n",
       "        vertical-align: top;\n",
       "    }\n",
       "\n",
       "    .dataframe thead th {\n",
       "        text-align: right;\n",
       "    }\n",
       "</style>\n",
       "<table border=\"1\" class=\"dataframe\">\n",
       "  <thead>\n",
       "    <tr style=\"text-align: right;\">\n",
       "      <th></th>\n",
       "      <th>auth_ts</th>\n",
       "      <th>uid</th>\n",
       "      <th>auth_date</th>\n",
       "    </tr>\n",
       "  </thead>\n",
       "  <tbody>\n",
       "    <tr>\n",
       "      <th>0</th>\n",
       "      <td>911382223</td>\n",
       "      <td>1</td>\n",
       "      <td>1998-11-18 09:43:43</td>\n",
       "    </tr>\n",
       "    <tr>\n",
       "      <th>1</th>\n",
       "      <td>932683089</td>\n",
       "      <td>2</td>\n",
       "      <td>1999-07-22 22:38:09</td>\n",
       "    </tr>\n",
       "    <tr>\n",
       "      <th>2</th>\n",
       "      <td>932921206</td>\n",
       "      <td>2</td>\n",
       "      <td>1999-07-25 16:46:46</td>\n",
       "    </tr>\n",
       "    <tr>\n",
       "      <th>3</th>\n",
       "      <td>933393015</td>\n",
       "      <td>2</td>\n",
       "      <td>1999-07-31 03:50:15</td>\n",
       "    </tr>\n",
       "    <tr>\n",
       "      <th>4</th>\n",
       "      <td>933875379</td>\n",
       "      <td>2</td>\n",
       "      <td>1999-08-05 17:49:39</td>\n",
       "    </tr>\n",
       "  </tbody>\n",
       "</table>\n",
       "</div>"
      ],
      "text/plain": [
       "     auth_ts  uid           auth_date\n",
       "0  911382223    1 1998-11-18 09:43:43\n",
       "1  932683089    2 1999-07-22 22:38:09\n",
       "2  932921206    2 1999-07-25 16:46:46\n",
       "3  933393015    2 1999-07-31 03:50:15\n",
       "4  933875379    2 1999-08-05 17:49:39"
      ]
     },
     "execution_count": 12,
     "metadata": {},
     "output_type": "execute_result"
    }
   ],
   "source": [
    "auth['auth_date']= pd.to_datetime(auth['auth_ts'], unit ='s')\n",
    "auth.head(5)"
   ]
  },
  {
   "cell_type": "markdown",
   "metadata": {},
   "source": [
    "Retention — это метрика, которая показывает, сколько пользователей вернулись в приложение или игру после первой регистрации. Обычно ее измеряют на определенные временные интервалы, например, через 1 день, 7 дней, 30 дней, 365 дней и т.д.. Предлагаю рассмотреть именно такие временные границы."
   ]
  },
  {
   "cell_type": "markdown",
   "metadata": {},
   "source": [
    "Для создания функции ограничимся лишь частью данных (выберем сэмпл), так как данных слишком много, и питон может устать :("
   ]
  },
  {
   "cell_type": "code",
   "execution_count": 13,
   "metadata": {},
   "outputs": [
    {
     "data": {
      "text/html": [
       "<div>\n",
       "<style scoped>\n",
       "    .dataframe tbody tr th:only-of-type {\n",
       "        vertical-align: middle;\n",
       "    }\n",
       "\n",
       "    .dataframe tbody tr th {\n",
       "        vertical-align: top;\n",
       "    }\n",
       "\n",
       "    .dataframe thead th {\n",
       "        text-align: right;\n",
       "    }\n",
       "</style>\n",
       "<table border=\"1\" class=\"dataframe\">\n",
       "  <thead>\n",
       "    <tr style=\"text-align: right;\">\n",
       "      <th></th>\n",
       "      <th>reg_ts</th>\n",
       "      <th>uid</th>\n",
       "      <th>reg_date</th>\n",
       "    </tr>\n",
       "  </thead>\n",
       "  <tbody>\n",
       "    <tr>\n",
       "      <th>0</th>\n",
       "      <td>911382223</td>\n",
       "      <td>1</td>\n",
       "      <td>1998-11-18 09:43:43</td>\n",
       "    </tr>\n",
       "    <tr>\n",
       "      <th>1</th>\n",
       "      <td>932683089</td>\n",
       "      <td>2</td>\n",
       "      <td>1999-07-22 22:38:09</td>\n",
       "    </tr>\n",
       "    <tr>\n",
       "      <th>2</th>\n",
       "      <td>947802447</td>\n",
       "      <td>3</td>\n",
       "      <td>2000-01-13 22:27:27</td>\n",
       "    </tr>\n",
       "    <tr>\n",
       "      <th>3</th>\n",
       "      <td>959523541</td>\n",
       "      <td>4</td>\n",
       "      <td>2000-05-28 14:19:01</td>\n",
       "    </tr>\n",
       "    <tr>\n",
       "      <th>4</th>\n",
       "      <td>969103313</td>\n",
       "      <td>5</td>\n",
       "      <td>2000-09-16 11:21:53</td>\n",
       "    </tr>\n",
       "    <tr>\n",
       "      <th>...</th>\n",
       "      <td>...</td>\n",
       "      <td>...</td>\n",
       "      <td>...</td>\n",
       "    </tr>\n",
       "    <tr>\n",
       "      <th>995</th>\n",
       "      <td>1237760229</td>\n",
       "      <td>1107</td>\n",
       "      <td>2009-03-22 22:17:09</td>\n",
       "    </tr>\n",
       "    <tr>\n",
       "      <th>996</th>\n",
       "      <td>1237812904</td>\n",
       "      <td>1108</td>\n",
       "      <td>2009-03-23 12:55:04</td>\n",
       "    </tr>\n",
       "    <tr>\n",
       "      <th>997</th>\n",
       "      <td>1237865526</td>\n",
       "      <td>1109</td>\n",
       "      <td>2009-03-24 03:32:06</td>\n",
       "    </tr>\n",
       "    <tr>\n",
       "      <th>998</th>\n",
       "      <td>1237918095</td>\n",
       "      <td>1110</td>\n",
       "      <td>2009-03-24 18:08:15</td>\n",
       "    </tr>\n",
       "    <tr>\n",
       "      <th>999</th>\n",
       "      <td>1237970612</td>\n",
       "      <td>1111</td>\n",
       "      <td>2009-03-25 08:43:32</td>\n",
       "    </tr>\n",
       "  </tbody>\n",
       "</table>\n",
       "<p>1000 rows × 3 columns</p>\n",
       "</div>"
      ],
      "text/plain": [
       "         reg_ts   uid            reg_date\n",
       "0     911382223     1 1998-11-18 09:43:43\n",
       "1     932683089     2 1999-07-22 22:38:09\n",
       "2     947802447     3 2000-01-13 22:27:27\n",
       "3     959523541     4 2000-05-28 14:19:01\n",
       "4     969103313     5 2000-09-16 11:21:53\n",
       "..          ...   ...                 ...\n",
       "995  1237760229  1107 2009-03-22 22:17:09\n",
       "996  1237812904  1108 2009-03-23 12:55:04\n",
       "997  1237865526  1109 2009-03-24 03:32:06\n",
       "998  1237918095  1110 2009-03-24 18:08:15\n",
       "999  1237970612  1111 2009-03-25 08:43:32\n",
       "\n",
       "[1000 rows x 3 columns]"
      ]
     },
     "execution_count": 13,
     "metadata": {},
     "output_type": "execute_result"
    }
   ],
   "source": [
    "reg_sample=reg.head(1000)\n",
    "reg_sample"
   ]
  },
  {
   "cell_type": "code",
   "execution_count": 14,
   "metadata": {},
   "outputs": [
    {
     "data": {
      "text/html": [
       "<div>\n",
       "<style scoped>\n",
       "    .dataframe tbody tr th:only-of-type {\n",
       "        vertical-align: middle;\n",
       "    }\n",
       "\n",
       "    .dataframe tbody tr th {\n",
       "        vertical-align: top;\n",
       "    }\n",
       "\n",
       "    .dataframe thead th {\n",
       "        text-align: right;\n",
       "    }\n",
       "</style>\n",
       "<table border=\"1\" class=\"dataframe\">\n",
       "  <thead>\n",
       "    <tr style=\"text-align: right;\">\n",
       "      <th></th>\n",
       "      <th>auth_ts</th>\n",
       "      <th>uid</th>\n",
       "      <th>auth_date</th>\n",
       "    </tr>\n",
       "  </thead>\n",
       "  <tbody>\n",
       "    <tr>\n",
       "      <th>0</th>\n",
       "      <td>911382223</td>\n",
       "      <td>1</td>\n",
       "      <td>1998-11-18 09:43:43</td>\n",
       "    </tr>\n",
       "    <tr>\n",
       "      <th>1</th>\n",
       "      <td>932683089</td>\n",
       "      <td>2</td>\n",
       "      <td>1999-07-22 22:38:09</td>\n",
       "    </tr>\n",
       "    <tr>\n",
       "      <th>2</th>\n",
       "      <td>932921206</td>\n",
       "      <td>2</td>\n",
       "      <td>1999-07-25 16:46:46</td>\n",
       "    </tr>\n",
       "    <tr>\n",
       "      <th>3</th>\n",
       "      <td>933393015</td>\n",
       "      <td>2</td>\n",
       "      <td>1999-07-31 03:50:15</td>\n",
       "    </tr>\n",
       "    <tr>\n",
       "      <th>4</th>\n",
       "      <td>933875379</td>\n",
       "      <td>2</td>\n",
       "      <td>1999-08-05 17:49:39</td>\n",
       "    </tr>\n",
       "    <tr>\n",
       "      <th>...</th>\n",
       "      <td>...</td>\n",
       "      <td>...</td>\n",
       "      <td>...</td>\n",
       "    </tr>\n",
       "    <tr>\n",
       "      <th>9591373</th>\n",
       "      <td>1600818619</td>\n",
       "      <td>280</td>\n",
       "      <td>2020-09-22 23:50:19</td>\n",
       "    </tr>\n",
       "    <tr>\n",
       "      <th>9592290</th>\n",
       "      <td>1600823481</td>\n",
       "      <td>925</td>\n",
       "      <td>2020-09-23 01:11:21</td>\n",
       "    </tr>\n",
       "    <tr>\n",
       "      <th>9594450</th>\n",
       "      <td>1600835444</td>\n",
       "      <td>224</td>\n",
       "      <td>2020-09-23 04:30:44</td>\n",
       "    </tr>\n",
       "    <tr>\n",
       "      <th>9596809</th>\n",
       "      <td>1600848660</td>\n",
       "      <td>890</td>\n",
       "      <td>2020-09-23 08:11:00</td>\n",
       "    </tr>\n",
       "    <tr>\n",
       "      <th>9598358</th>\n",
       "      <td>1600856876</td>\n",
       "      <td>600</td>\n",
       "      <td>2020-09-23 10:27:56</td>\n",
       "    </tr>\n",
       "  </tbody>\n",
       "</table>\n",
       "<p>49099 rows × 3 columns</p>\n",
       "</div>"
      ],
      "text/plain": [
       "            auth_ts  uid           auth_date\n",
       "0         911382223    1 1998-11-18 09:43:43\n",
       "1         932683089    2 1999-07-22 22:38:09\n",
       "2         932921206    2 1999-07-25 16:46:46\n",
       "3         933393015    2 1999-07-31 03:50:15\n",
       "4         933875379    2 1999-08-05 17:49:39\n",
       "...             ...  ...                 ...\n",
       "9591373  1600818619  280 2020-09-22 23:50:19\n",
       "9592290  1600823481  925 2020-09-23 01:11:21\n",
       "9594450  1600835444  224 2020-09-23 04:30:44\n",
       "9596809  1600848660  890 2020-09-23 08:11:00\n",
       "9598358  1600856876  600 2020-09-23 10:27:56\n",
       "\n",
       "[49099 rows x 3 columns]"
      ]
     },
     "execution_count": 14,
     "metadata": {},
     "output_type": "execute_result"
    }
   ],
   "source": [
    "auth_sample=auth[auth['uid'].isin(reg_sample.uid.unique())]\n",
    "auth_sample"
   ]
  },
  {
   "cell_type": "markdown",
   "metadata": {},
   "source": [
    "Будем рассчитывать показатель retention не по дням, а по месяцам. "
   ]
  },
  {
   "cell_type": "code",
   "execution_count": 15,
   "metadata": {},
   "outputs": [
    {
     "name": "stderr",
     "output_type": "stream",
     "text": [
      "/opt/tljh/user/lib/python3.7/site-packages/ipykernel_launcher.py:2: SettingWithCopyWarning: \n",
      "A value is trying to be set on a copy of a slice from a DataFrame.\n",
      "Try using .loc[row_indexer,col_indexer] = value instead\n",
      "\n",
      "See the caveats in the documentation: https://pandas.pydata.org/pandas-docs/stable/user_guide/indexing.html#returning-a-view-versus-a-copy\n",
      "  \n"
     ]
    },
    {
     "data": {
      "text/html": [
       "<div>\n",
       "<style scoped>\n",
       "    .dataframe tbody tr th:only-of-type {\n",
       "        vertical-align: middle;\n",
       "    }\n",
       "\n",
       "    .dataframe tbody tr th {\n",
       "        vertical-align: top;\n",
       "    }\n",
       "\n",
       "    .dataframe thead th {\n",
       "        text-align: right;\n",
       "    }\n",
       "</style>\n",
       "<table border=\"1\" class=\"dataframe\">\n",
       "  <thead>\n",
       "    <tr style=\"text-align: right;\">\n",
       "      <th></th>\n",
       "      <th>1</th>\n",
       "      <th>7</th>\n",
       "      <th>30</th>\n",
       "      <th>365</th>\n",
       "    </tr>\n",
       "  </thead>\n",
       "  <tbody>\n",
       "    <tr>\n",
       "      <th>1998-11</th>\n",
       "      <td>0.000000</td>\n",
       "      <td>0.000000</td>\n",
       "      <td>1.000000</td>\n",
       "      <td>1.0</td>\n",
       "    </tr>\n",
       "    <tr>\n",
       "      <th>1999-07</th>\n",
       "      <td>0.000000</td>\n",
       "      <td>0.000000</td>\n",
       "      <td>1.000000</td>\n",
       "      <td>1.0</td>\n",
       "    </tr>\n",
       "    <tr>\n",
       "      <th>2000-01</th>\n",
       "      <td>0.000000</td>\n",
       "      <td>0.000000</td>\n",
       "      <td>1.000000</td>\n",
       "      <td>1.0</td>\n",
       "    </tr>\n",
       "    <tr>\n",
       "      <th>2000-05</th>\n",
       "      <td>0.000000</td>\n",
       "      <td>0.000000</td>\n",
       "      <td>1.000000</td>\n",
       "      <td>1.0</td>\n",
       "    </tr>\n",
       "    <tr>\n",
       "      <th>2000-09</th>\n",
       "      <td>0.000000</td>\n",
       "      <td>0.000000</td>\n",
       "      <td>1.000000</td>\n",
       "      <td>1.0</td>\n",
       "    </tr>\n",
       "    <tr>\n",
       "      <th>...</th>\n",
       "      <td>...</td>\n",
       "      <td>...</td>\n",
       "      <td>...</td>\n",
       "      <td>...</td>\n",
       "    </tr>\n",
       "    <tr>\n",
       "      <th>2008-11</th>\n",
       "      <td>0.025000</td>\n",
       "      <td>0.225000</td>\n",
       "      <td>1.000000</td>\n",
       "      <td>1.0</td>\n",
       "    </tr>\n",
       "    <tr>\n",
       "      <th>2008-12</th>\n",
       "      <td>0.023256</td>\n",
       "      <td>0.209302</td>\n",
       "      <td>0.976744</td>\n",
       "      <td>1.0</td>\n",
       "    </tr>\n",
       "    <tr>\n",
       "      <th>2009-01</th>\n",
       "      <td>0.043478</td>\n",
       "      <td>0.217391</td>\n",
       "      <td>0.956522</td>\n",
       "      <td>1.0</td>\n",
       "    </tr>\n",
       "    <tr>\n",
       "      <th>2009-02</th>\n",
       "      <td>0.023256</td>\n",
       "      <td>0.255814</td>\n",
       "      <td>1.000000</td>\n",
       "      <td>1.0</td>\n",
       "    </tr>\n",
       "    <tr>\n",
       "      <th>2009-03</th>\n",
       "      <td>0.050000</td>\n",
       "      <td>0.275000</td>\n",
       "      <td>1.000000</td>\n",
       "      <td>1.0</td>\n",
       "    </tr>\n",
       "  </tbody>\n",
       "</table>\n",
       "<p>97 rows × 4 columns</p>\n",
       "</div>"
      ],
      "text/plain": [
       "              1         7         30   365\n",
       "1998-11  0.000000  0.000000  1.000000  1.0\n",
       "1999-07  0.000000  0.000000  1.000000  1.0\n",
       "2000-01  0.000000  0.000000  1.000000  1.0\n",
       "2000-05  0.000000  0.000000  1.000000  1.0\n",
       "2000-09  0.000000  0.000000  1.000000  1.0\n",
       "...           ...       ...       ...  ...\n",
       "2008-11  0.025000  0.225000  1.000000  1.0\n",
       "2008-12  0.023256  0.209302  0.976744  1.0\n",
       "2009-01  0.043478  0.217391  0.956522  1.0\n",
       "2009-02  0.023256  0.255814  1.000000  1.0\n",
       "2009-03  0.050000  0.275000  1.000000  1.0\n",
       "\n",
       "[97 rows x 4 columns]"
      ]
     },
     "execution_count": 15,
     "metadata": {},
     "output_type": "execute_result"
    }
   ],
   "source": [
    "def calculate_monthly_retention(reg_df, auth_df, retention_days):\n",
    "    reg_df['reg_month'] = reg_df['reg_date'].dt.to_period('M')\n",
    "    \n",
    "    # Создаем DataFrame для хранения результатов\n",
    "    retention_results = pd.DataFrame(index=reg_df['reg_month'].unique(), columns=retention_days)\n",
    "    \n",
    "    # Группируем по месяцу регистрации\n",
    "    monthly_groups = reg_df.groupby('reg_month')['uid'].unique().apply(set).reset_index()\n",
    "    \n",
    "    for index, row in monthly_groups.iterrows():\n",
    "        reg_month = row['reg_month']\n",
    "        registered_users = row['uid']\n",
    "        \n",
    "        for days in retention_days:\n",
    "            # Вычисляем дату, до которой нужно проверять авторизацию\n",
    "            retention_start_date = reg_month.start_time\n",
    "            retention_end_date = retention_start_date + pd.Timedelta(days=days)\n",
    "            \n",
    "            # Получаем uid пользователей, которые авторизовались в указанный период\n",
    "            returning_users = auth_sample[(auth_df['auth_date'] > retention_start_date) & \n",
    "                                          (auth_df['auth_date'] <= retention_end_date)]['uid'].unique()\n",
    "            \n",
    "            # Считаем количество вернувшихся пользователей\n",
    "            retention_count = len(set(registered_users) & set(returning_users))\n",
    "            \n",
    "            # Вычисляем retention rate\n",
    "            if len(registered_users) > 0:\n",
    "                retention_rate = retention_count / len(registered_users)\n",
    "            else:\n",
    "                retention_rate = 0\n",
    "            \n",
    "            # Записываем результат в DataFrame\n",
    "            retention_results.at[reg_month, days] = retention_rate\n",
    "    \n",
    "    retention_results.fillna(0, inplace=True)\n",
    "    return retention_results\n",
    "# Проверим работу функции на наших выборках\n",
    "reg_df=reg_sample\n",
    "auth_df=auth_sample\n",
    "retention_days = [1, 7, 30, 365] \n",
    "retention_results = calculate_monthly_retention(reg_df, auth_df, retention_days)\n",
    "retention_results\n"
   ]
  },
  {
   "cell_type": "markdown",
   "metadata": {},
   "source": [
    "Таким образом, данной функцией можно пользоваться для расчета ежемесячного значения Retention Rate в любых временных рамках (retention_days), а также беря не только срезы датасетов, но и генеральную совокупность."
   ]
  },
  {
   "cell_type": "markdown",
   "metadata": {},
   "source": [
    "# 2. Помимо этого, в компании провели A/B тестирование наборов акционных предложений. На основе имеющихся данных определите, какой набор можно считать лучшим и на основе каких метрик стоит принять правильное решение."
   ]
  },
  {
   "cell_type": "markdown",
   "metadata": {},
   "source": [
    "# Имеются результаты A/B теста, в котором двум группам пользователей предлагались различные наборы акционных предложений. Известно, что ARPU в тестовой группе выше на 5%, чем в контрольной. При этом в контрольной группе 1928 игроков из 202103 оказались платящими, а в тестовой – 1805 из 202667.\n",
    "\n",
    "Какой набор предложений можно считать лучшим? Какие метрики стоит проанализировать для принятия правильного решения и как?"
   ]
  },
  {
   "cell_type": "code",
   "execution_count": 16,
   "metadata": {},
   "outputs": [
    {
     "data": {
      "text/html": [
       "<div>\n",
       "<style scoped>\n",
       "    .dataframe tbody tr th:only-of-type {\n",
       "        vertical-align: middle;\n",
       "    }\n",
       "\n",
       "    .dataframe tbody tr th {\n",
       "        vertical-align: top;\n",
       "    }\n",
       "\n",
       "    .dataframe thead th {\n",
       "        text-align: right;\n",
       "    }\n",
       "</style>\n",
       "<table border=\"1\" class=\"dataframe\">\n",
       "  <thead>\n",
       "    <tr style=\"text-align: right;\">\n",
       "      <th></th>\n",
       "      <th>user_id</th>\n",
       "      <th>revenue</th>\n",
       "      <th>testgroup</th>\n",
       "    </tr>\n",
       "  </thead>\n",
       "  <tbody>\n",
       "    <tr>\n",
       "      <th>0</th>\n",
       "      <td>1</td>\n",
       "      <td>0</td>\n",
       "      <td>b</td>\n",
       "    </tr>\n",
       "    <tr>\n",
       "      <th>1</th>\n",
       "      <td>2</td>\n",
       "      <td>0</td>\n",
       "      <td>a</td>\n",
       "    </tr>\n",
       "    <tr>\n",
       "      <th>2</th>\n",
       "      <td>3</td>\n",
       "      <td>0</td>\n",
       "      <td>a</td>\n",
       "    </tr>\n",
       "    <tr>\n",
       "      <th>3</th>\n",
       "      <td>4</td>\n",
       "      <td>0</td>\n",
       "      <td>b</td>\n",
       "    </tr>\n",
       "    <tr>\n",
       "      <th>4</th>\n",
       "      <td>5</td>\n",
       "      <td>0</td>\n",
       "      <td>b</td>\n",
       "    </tr>\n",
       "  </tbody>\n",
       "</table>\n",
       "</div>"
      ],
      "text/plain": [
       "   user_id  revenue testgroup\n",
       "0        1        0         b\n",
       "1        2        0         a\n",
       "2        3        0         a\n",
       "3        4        0         b\n",
       "4        5        0         b"
      ]
     },
     "execution_count": 16,
     "metadata": {},
     "output_type": "execute_result"
    }
   ],
   "source": [
    "ab_df=pd.read_csv('Проект_1_Задание_2.csv', sep=';')\n",
    "ab_df.head(5)"
   ]
  },
  {
   "cell_type": "code",
   "execution_count": 17,
   "metadata": {},
   "outputs": [
    {
     "data": {
      "text/plain": [
       "(404770, 3)"
      ]
     },
     "execution_count": 17,
     "metadata": {},
     "output_type": "execute_result"
    }
   ],
   "source": [
    "ab_df.shape"
   ]
  },
  {
   "cell_type": "code",
   "execution_count": 18,
   "metadata": {},
   "outputs": [
    {
     "data": {
      "text/plain": [
       "404770"
      ]
     },
     "execution_count": 18,
     "metadata": {},
     "output_type": "execute_result"
    }
   ],
   "source": [
    "# Проверим, что у нас не повторяются чьи-то айди в данных.\n",
    "ab_df.user_id.nunique()"
   ]
  },
  {
   "cell_type": "code",
   "execution_count": 19,
   "metadata": {},
   "outputs": [
    {
     "name": "stdout",
     "output_type": "stream",
     "text": [
      "<class 'pandas.core.frame.DataFrame'>\n",
      "RangeIndex: 404770 entries, 0 to 404769\n",
      "Data columns (total 3 columns):\n",
      " #   Column     Non-Null Count   Dtype \n",
      "---  ------     --------------   ----- \n",
      " 0   user_id    404770 non-null  int64 \n",
      " 1   revenue    404770 non-null  int64 \n",
      " 2   testgroup  404770 non-null  object\n",
      "dtypes: int64(2), object(1)\n",
      "memory usage: 9.3+ MB\n"
     ]
    }
   ],
   "source": [
    "ab_df.info()"
   ]
  },
  {
   "cell_type": "code",
   "execution_count": 20,
   "metadata": {},
   "outputs": [
    {
     "data": {
      "text/plain": [
       "count    404770.000000\n",
       "mean         26.083435\n",
       "std         681.652928\n",
       "min           0.000000\n",
       "25%           0.000000\n",
       "50%           0.000000\n",
       "75%           0.000000\n",
       "max       37433.000000\n",
       "Name: revenue, dtype: float64"
      ]
     },
     "execution_count": 20,
     "metadata": {},
     "output_type": "execute_result"
    }
   ],
   "source": [
    "ab_df.revenue.describe()"
   ]
  },
  {
   "cell_type": "code",
   "execution_count": null,
   "metadata": {},
   "outputs": [],
   "source": []
  },
  {
   "cell_type": "code",
   "execution_count": 21,
   "metadata": {},
   "outputs": [
    {
     "data": {
      "text/plain": [
       "25.413719736965806"
      ]
     },
     "execution_count": 21,
     "metadata": {},
     "output_type": "execute_result"
    }
   ],
   "source": [
    "a=ab_df.query('testgroup==\"a\"')\n",
    "arpu_a=a.revenue.mean()\n",
    "arpu_a"
   ]
  },
  {
   "cell_type": "code",
   "execution_count": 22,
   "metadata": {},
   "outputs": [
    {
     "data": {
      "text/plain": [
       "26.75128659327863"
      ]
     },
     "execution_count": 22,
     "metadata": {},
     "output_type": "execute_result"
    }
   ],
   "source": [
    "b=ab_df.query('testgroup==\"b\"')\n",
    "arpu_b=b.revenue.mean()\n",
    "arpu_b"
   ]
  },
  {
   "cell_type": "code",
   "execution_count": 23,
   "metadata": {},
   "outputs": [
    {
     "data": {
      "text/plain": [
       "5.263168360069894"
      ]
     },
     "execution_count": 23,
     "metadata": {},
     "output_type": "execute_result"
    }
   ],
   "source": [
    "((arpu_b-arpu_a)/arpu_a)*100\n",
    "#Проверяем, что ARPU тестовой группы выше на 5%, чем у контрольной. Делаем вывод, что группа \"a\" - контрольная, а \"b\" - тестовая. (мало ли)"
   ]
  },
  {
   "cell_type": "code",
   "execution_count": 24,
   "metadata": {},
   "outputs": [
    {
     "data": {
      "text/plain": [
       "count    202103.000000\n",
       "mean         25.413720\n",
       "std         920.768137\n",
       "min           0.000000\n",
       "25%           0.000000\n",
       "50%           0.000000\n",
       "75%           0.000000\n",
       "max       37433.000000\n",
       "Name: revenue, dtype: float64"
      ]
     },
     "execution_count": 24,
     "metadata": {},
     "output_type": "execute_result"
    }
   ],
   "source": [
    "a.revenue.describe()"
   ]
  },
  {
   "cell_type": "code",
   "execution_count": 25,
   "metadata": {},
   "outputs": [
    {
     "data": {
      "text/plain": [
       "count    202667.000000\n",
       "mean         26.751287\n",
       "std         287.324162\n",
       "min           0.000000\n",
       "25%           0.000000\n",
       "50%           0.000000\n",
       "75%           0.000000\n",
       "max        4000.000000\n",
       "Name: revenue, dtype: float64"
      ]
     },
     "execution_count": 25,
     "metadata": {},
     "output_type": "execute_result"
    }
   ],
   "source": [
    "b.revenue.describe()"
   ]
  },
  {
   "cell_type": "code",
   "execution_count": 26,
   "metadata": {},
   "outputs": [],
   "source": [
    "# Сразу в глаза бросается большая разница стандартных отклонений в группах, а также наличие выброса в контрольной группе :\n",
    "# максимальная покупка - 37433, в то время как у тестовой лишь 4000,\n",
    "# это может говорить о постоянном/постоянных покупателях попавших в контрольную группу, что немного искажает реальное положение вещей."
   ]
  },
  {
   "cell_type": "code",
   "execution_count": 27,
   "metadata": {},
   "outputs": [
    {
     "data": {
      "text/plain": [
       "count    202102.000000\n",
       "mean         25.228627\n",
       "std         917.002847\n",
       "min           0.000000\n",
       "25%           0.000000\n",
       "50%           0.000000\n",
       "75%           0.000000\n",
       "max       37407.000000\n",
       "Name: revenue, dtype: float64"
      ]
     },
     "execution_count": 27,
     "metadata": {},
     "output_type": "execute_result"
    }
   ],
   "source": [
    "# Попробуем выкинуть этого покупателя из контрольной группы и посмотрим, что получится\n",
    "user_id_to_exclude=a.query('revenue == \"37433\"')['user_id'].values[0]\n",
    "a_new=a.query('user_id != @user_id_to_exclude')\n",
    "a_new.revenue.describe() #и снова максимальное значение – это выброс. Проверим данные внимательнее"
   ]
  },
  {
   "cell_type": "code",
   "execution_count": 28,
   "metadata": {},
   "outputs": [
    {
     "data": {
      "text/html": [
       "<div>\n",
       "<style scoped>\n",
       "    .dataframe tbody tr th:only-of-type {\n",
       "        vertical-align: middle;\n",
       "    }\n",
       "\n",
       "    .dataframe tbody tr th {\n",
       "        vertical-align: top;\n",
       "    }\n",
       "\n",
       "    .dataframe thead th {\n",
       "        text-align: right;\n",
       "    }\n",
       "</style>\n",
       "<table border=\"1\" class=\"dataframe\">\n",
       "  <thead>\n",
       "    <tr style=\"text-align: right;\">\n",
       "      <th></th>\n",
       "      <th>user_id</th>\n",
       "      <th>revenue</th>\n",
       "    </tr>\n",
       "  </thead>\n",
       "  <tbody>\n",
       "    <tr>\n",
       "      <th>count</th>\n",
       "      <td>1805.000000</td>\n",
       "      <td>1805.000000</td>\n",
       "    </tr>\n",
       "    <tr>\n",
       "      <th>mean</th>\n",
       "      <td>205834.548476</td>\n",
       "      <td>3003.658172</td>\n",
       "    </tr>\n",
       "    <tr>\n",
       "      <th>std</th>\n",
       "      <td>116400.045485</td>\n",
       "      <td>572.619709</td>\n",
       "    </tr>\n",
       "    <tr>\n",
       "      <th>min</th>\n",
       "      <td>161.000000</td>\n",
       "      <td>2000.000000</td>\n",
       "    </tr>\n",
       "    <tr>\n",
       "      <th>25%</th>\n",
       "      <td>106815.000000</td>\n",
       "      <td>2513.000000</td>\n",
       "    </tr>\n",
       "    <tr>\n",
       "      <th>50%</th>\n",
       "      <td>206651.000000</td>\n",
       "      <td>3022.000000</td>\n",
       "    </tr>\n",
       "    <tr>\n",
       "      <th>75%</th>\n",
       "      <td>304907.000000</td>\n",
       "      <td>3478.000000</td>\n",
       "    </tr>\n",
       "    <tr>\n",
       "      <th>max</th>\n",
       "      <td>404526.000000</td>\n",
       "      <td>4000.000000</td>\n",
       "    </tr>\n",
       "  </tbody>\n",
       "</table>\n",
       "</div>"
      ],
      "text/plain": [
       "             user_id      revenue\n",
       "count    1805.000000  1805.000000\n",
       "mean   205834.548476  3003.658172\n",
       "std    116400.045485   572.619709\n",
       "min       161.000000  2000.000000\n",
       "25%    106815.000000  2513.000000\n",
       "50%    206651.000000  3022.000000\n",
       "75%    304907.000000  3478.000000\n",
       "max    404526.000000  4000.000000"
      ]
     },
     "execution_count": 28,
     "metadata": {},
     "output_type": "execute_result"
    }
   ],
   "source": [
    "# Отберём только тех пользователей, которые сколько-то заплатили, чтобы посмотреть на данные поближе\n",
    "import matplotlib.pyplot as plt\n",
    "b_plat=b.query('revenue != \"0\"') \n",
    "b_plat.describe()"
   ]
  },
  {
   "cell_type": "code",
   "execution_count": 85,
   "metadata": {},
   "outputs": [
    {
     "data": {
      "text/plain": [
       "Text(0.5, 1.0, 'Распределение выручки от пользователей среди тестовой группы')"
      ]
     },
     "execution_count": 85,
     "metadata": {},
     "output_type": "execute_result"
    },
    {
     "data": {
      "image/png": "[encoded data removed]",
      "text/plain": [
       "<Figure size 720x432 with 1 Axes>"
      ]
     },
     "metadata": {
      "needs_background": "light"
     },
     "output_type": "display_data"
    }
   ],
   "source": [
    "plt.figure(figsize=(10, 6))\n",
    "b_plat.revenue.hist(color='orange', alpha=0.7, bins=30)\n",
    "plt.title('Распределение выручки от пользователей среди тестовой группы')"
   ]
  },
  {
   "cell_type": "code",
   "execution_count": 30,
   "metadata": {},
   "outputs": [
    {
     "data": {
      "text/html": [
       "<div>\n",
       "<style scoped>\n",
       "    .dataframe tbody tr th:only-of-type {\n",
       "        vertical-align: middle;\n",
       "    }\n",
       "\n",
       "    .dataframe tbody tr th {\n",
       "        vertical-align: top;\n",
       "    }\n",
       "\n",
       "    .dataframe thead th {\n",
       "        text-align: right;\n",
       "    }\n",
       "</style>\n",
       "<table border=\"1\" class=\"dataframe\">\n",
       "  <thead>\n",
       "    <tr style=\"text-align: right;\">\n",
       "      <th></th>\n",
       "      <th>user_id</th>\n",
       "      <th>revenue</th>\n",
       "    </tr>\n",
       "  </thead>\n",
       "  <tbody>\n",
       "    <tr>\n",
       "      <th>count</th>\n",
       "      <td>1928.000000</td>\n",
       "      <td>1928.000000</td>\n",
       "    </tr>\n",
       "    <tr>\n",
       "      <th>mean</th>\n",
       "      <td>200152.677905</td>\n",
       "      <td>2663.998444</td>\n",
       "    </tr>\n",
       "    <tr>\n",
       "      <th>std</th>\n",
       "      <td>116596.504905</td>\n",
       "      <td>9049.039763</td>\n",
       "    </tr>\n",
       "    <tr>\n",
       "      <th>min</th>\n",
       "      <td>73.000000</td>\n",
       "      <td>200.000000</td>\n",
       "    </tr>\n",
       "    <tr>\n",
       "      <th>25%</th>\n",
       "      <td>99323.000000</td>\n",
       "      <td>257.000000</td>\n",
       "    </tr>\n",
       "    <tr>\n",
       "      <th>50%</th>\n",
       "      <td>199854.500000</td>\n",
       "      <td>311.000000</td>\n",
       "    </tr>\n",
       "    <tr>\n",
       "      <th>75%</th>\n",
       "      <td>299664.250000</td>\n",
       "      <td>361.000000</td>\n",
       "    </tr>\n",
       "    <tr>\n",
       "      <th>max</th>\n",
       "      <td>404768.000000</td>\n",
       "      <td>37433.000000</td>\n",
       "    </tr>\n",
       "  </tbody>\n",
       "</table>\n",
       "</div>"
      ],
      "text/plain": [
       "             user_id       revenue\n",
       "count    1928.000000   1928.000000\n",
       "mean   200152.677905   2663.998444\n",
       "std    116596.504905   9049.039763\n",
       "min        73.000000    200.000000\n",
       "25%     99323.000000    257.000000\n",
       "50%    199854.500000    311.000000\n",
       "75%    299664.250000    361.000000\n",
       "max    404768.000000  37433.000000"
      ]
     },
     "execution_count": 30,
     "metadata": {},
     "output_type": "execute_result"
    }
   ],
   "source": [
    "a_plat=a.query('revenue != \"0\"')\n",
    "a_plat.describe()"
   ]
  },
  {
   "cell_type": "code",
   "execution_count": 84,
   "metadata": {},
   "outputs": [
    {
     "data": {
      "text/plain": [
       "Text(0.5, 1.0, 'Распределение выручки от пользователей среди контрольной группы')"
      ]
     },
     "execution_count": 84,
     "metadata": {},
     "output_type": "execute_result"
    },
    {
     "data": {
      "image/png": "[encoded data removed]",
      "text/plain": [
       "<Figure size 720x432 with 1 Axes>"
      ]
     },
     "metadata": {
      "needs_background": "light"
     },
     "output_type": "display_data"
    }
   ],
   "source": [
    "plt.figure(figsize=(10, 6))\n",
    "a_plat.revenue.hist(color='green', alpha=0.5, bins=30)\n",
    "plt.title('Распределение выручки от пользователей среди контрольной группы')"
   ]
  },
  {
   "cell_type": "code",
   "execution_count": 96,
   "metadata": {},
   "outputs": [
    {
     "data": {
      "text/plain": [
       "<matplotlib.legend.Legend at 0x7f5567657588>"
      ]
     },
     "execution_count": 96,
     "metadata": {},
     "output_type": "execute_result"
    },
    {
     "data": {
      "image/png": "[encoded data removed]",
      "text/plain": [
       "<Figure size 1440x432 with 1 Axes>"
      ]
     },
     "metadata": {
      "needs_background": "light"
     },
     "output_type": "display_data"
    }
   ],
   "source": [
    "plt.figure(figsize=(20, 6))\n",
    "plt.hist(a_plat['revenue'], bins=30, alpha=0.5, color='green', label='Контрольная группа')\n",
    "plt.hist(b_plat['revenue'], bins=30, alpha=0.7, color='orange', label='Тестовая группа')\n",
    "plt.title('График распределения выручки от двух групп')\n",
    "plt.legend(loc='upper right')"
   ]
  },
  {
   "cell_type": "code",
   "execution_count": 93,
   "metadata": {},
   "outputs": [
    {
     "data": {
      "text/plain": [
       "Text(0.5, 1.0, 'Ящик с усами. Контрольная группа')"
      ]
     },
     "execution_count": 93,
     "metadata": {},
     "output_type": "execute_result"
    },
    {
     "data": {
      "image/png": "[encoded data removed]",
      "text/plain": [
       "<Figure size 1440x432 with 1 Axes>"
      ]
     },
     "metadata": {
      "needs_background": "light"
     },
     "output_type": "display_data"
    }
   ],
   "source": [
    "import seaborn as sns\n",
    "import matplotlib.pyplot as plt\n",
    "plt.figure(figsize=(20, 6))\n",
    "sns.boxplot(x=a_plat['revenue'], color='green')\n",
    "plt.title('Ящик с усами. Контрольная группа')\n",
    "# Получили очень странную картину. Технически, то, что мы видим справа – это выбросы."
   ]
  },
  {
   "cell_type": "code",
   "execution_count": 92,
   "metadata": {},
   "outputs": [
    {
     "data": {
      "text/plain": [
       "Text(0.5, 1.0, 'Ящик с усами. Тестовая группа')"
      ]
     },
     "execution_count": 92,
     "metadata": {},
     "output_type": "execute_result"
    },
    {
     "data": {
      "image/png": "[encoded data removed]",
      "text/plain": [
       "<Figure size 1440x432 with 1 Axes>"
      ]
     },
     "metadata": {
      "needs_background": "light"
     },
     "output_type": "display_data"
    }
   ],
   "source": [
    "plt.figure(figsize=(20, 6))\n",
    "sns.boxplot(x=b_plat['revenue'], color='orange')\n",
    "plt.title('Ящик с усами. Тестовая группа')"
   ]
  },
  {
   "cell_type": "code",
   "execution_count": 98,
   "metadata": {},
   "outputs": [
    {
     "data": {
      "text/plain": [
       "count    1805.000000\n",
       "mean      302.458172\n",
       "std        57.914246\n",
       "min       200.000000\n",
       "25%       254.000000\n",
       "50%       305.000000\n",
       "75%       352.000000\n",
       "max       400.000000\n",
       "Name: revenue, dtype: float64"
      ]
     },
     "execution_count": 98,
     "metadata": {},
     "output_type": "execute_result"
    }
   ],
   "source": [
    "# Убираем выбросы. В наших данных о контрольной группе имеется 123 пользователя, выручка от которых больше 37 000, но меньше 38 000.\n",
    "# От остальных же выручка меньше 400.\n",
    "# Мне кажется это очень странным, и тут может быть большое пространство для интерпретаци, вплоть до обычных ошибок в данных.\n",
    "# Но я буду считать, что её нет. \n",
    "a_plat_poor=a_plat.query('revenue < 37000')\n",
    "a_plat_poor.revenue.describe()\n",
    "# В итоге у нас остается 1805 пользователей, а выручка от них всего 545,937.\n",
    "# До удаления 123 пользователей из списка выручка от контрольной группы составляла 5,136,189. Показатели ОЧЕНЬ сильно поменялись. \n",
    "# Просто так удалить 123 пользователей нельзя.\n",
    "# Выручка от тестовой группы тем временем составляет 5,421,603."
   ]
  },
  {
   "cell_type": "code",
   "execution_count": 104,
   "metadata": {},
   "outputs": [
    {
     "data": {
      "text/plain": [
       "Text(0.5, 1.0, 'Ящик с усами. Контрольная группа – платящие \"немного\"')"
      ]
     },
     "execution_count": 104,
     "metadata": {},
     "output_type": "execute_result"
    },
    {
     "data": {
      "image/png": "[encoded data removed]",
      "text/plain": [
       "<Figure size 1440x432 with 1 Axes>"
      ]
     },
     "metadata": {
      "needs_background": "light"
     },
     "output_type": "display_data"
    }
   ],
   "source": [
    "plt.figure(figsize=(20, 6))\n",
    "sns.boxplot(x=a_plat_poor['revenue'], color='green')\n",
    "plt.title('Ящик с усами. Контрольная группа – платящие \"немного\"')"
   ]
  },
  {
   "cell_type": "code",
   "execution_count": 37,
   "metadata": {},
   "outputs": [
    {
     "data": {
      "text/plain": [
       "count      123.000000\n",
       "mean     37319.121951\n",
       "std         25.442183\n",
       "min      37293.000000\n",
       "25%      37301.000000\n",
       "50%      37311.000000\n",
       "75%      37329.000000\n",
       "max      37433.000000\n",
       "Name: revenue, dtype: float64"
      ]
     },
     "execution_count": 37,
     "metadata": {},
     "output_type": "execute_result"
    }
   ],
   "source": [
    "# Теперь посмотрим на часть пользователей из контрольной группы, которых мы посчитали за выбросы.\n",
    "# Рассмотрим их как отдельную группу под названием rich.\n",
    "\n",
    "a_rich=a_plat.query('revenue>37000')\n",
    "a_rich.revenue.describe()"
   ]
  },
  {
   "cell_type": "code",
   "execution_count": 106,
   "metadata": {},
   "outputs": [
    {
     "data": {
      "text/plain": [
       "Text(0.5, 1.0, 'Ящик с усами. Контрольная группа – платящие \"много\"')"
      ]
     },
     "execution_count": 106,
     "metadata": {},
     "output_type": "execute_result"
    },
    {
     "data": {
      "image/png": "[encoded data removed]",
      "text/plain": [
       "<Figure size 1440x432 with 1 Axes>"
      ]
     },
     "metadata": {
      "needs_background": "light"
     },
     "output_type": "display_data"
    }
   ],
   "source": [
    "plt.figure(figsize=(20, 6))\n",
    "sns.boxplot(x=a_rich['revenue'], color='green')\n",
    "plt.title('Ящик с усами. Контрольная группа – платящие \"много\"')\n",
    "# Здесь тоже есть некоторые выбросы, однако они уже не так критичны, \n",
    "# поскольку все платежи из этой группы уместились в промежутке от 37,293 до 37,433 у.е.  "
   ]
  },
  {
   "cell_type": "markdown",
   "metadata": {},
   "source": [
    "###### ------------------------------------------------------------------------------------------------------------------------------------------------------------------------------------------------------"
   ]
  },
  {
   "cell_type": "markdown",
   "metadata": {},
   "source": [
    "## Давайте рассчитаем самые базовые метрики и ещё раз посмотрим на цифры:"
   ]
  },
  {
   "cell_type": "markdown",
   "metadata": {},
   "source": [
    "##### ARPU"
   ]
  },
  {
   "cell_type": "code",
   "execution_count": 39,
   "metadata": {},
   "outputs": [],
   "source": [
    "# arpu_a=a.revenue.mean()\n",
    "# arpu_b=b.revenue.mean()"
   ]
  },
  {
   "cell_type": "markdown",
   "metadata": {},
   "source": [
    "Контрольная группа (a): ARPU = 25,41\n",
    "Тестовая группа (b): ARPU = 26.75"
   ]
  },
  {
   "cell_type": "markdown",
   "metadata": {},
   "source": [
    "##### Conversion rate"
   ]
  },
  {
   "cell_type": "code",
   "execution_count": 40,
   "metadata": {},
   "outputs": [],
   "source": [
    "# conv_rate_a=((a.query('revenue != \"0\"').shape[0]/a.shape[0])*100)\n",
    "# conv_rate_b=((b.query('revenue != \"0\"').shape[0]/b.shape[0])*100)"
   ]
  },
  {
   "cell_type": "markdown",
   "metadata": {},
   "source": [
    "Контрольная группа (a): Conversion rate = 0.954%\n",
    "Тестовая группа (b): Conversion rate = 0.891%"
   ]
  },
  {
   "cell_type": "markdown",
   "metadata": {},
   "source": [
    "##### Общая выручка"
   ]
  },
  {
   "cell_type": "code",
   "execution_count": 41,
   "metadata": {},
   "outputs": [],
   "source": [
    "# rev_a=a.revenue.sum()\n",
    "# rev_b=b.revenue.sum()"
   ]
  },
  {
   "cell_type": "markdown",
   "metadata": {},
   "source": [
    "Контрольная группа (a): total_revenue = 5,136,189\n",
    "Тестовая группа (b): total_revenue = 5,421,603"
   ]
  },
  {
   "cell_type": "markdown",
   "metadata": {},
   "source": [
    "###### ------------------------------------------------------------------------------------------------------------------------------------------------------------------------------------------------------"
   ]
  },
  {
   "cell_type": "markdown",
   "metadata": {},
   "source": [
    "##### Проведём тест хи-квадрат, чтобы установить, статистически ли значимы различия в наших конверсиях. Уровень значимости: 5%"
   ]
  },
  {
   "cell_type": "code",
   "execution_count": 42,
   "metadata": {},
   "outputs": [
    {
     "name": "stdout",
     "output_type": "stream",
     "text": [
      "p-value: 0.03647561892312613\n"
     ]
    }
   ],
   "source": [
    "import scipy.stats as stats\n",
    "\n",
    "\n",
    "control_paid = 1928\n",
    "control_total = 202103\n",
    "test_paid = 1805\n",
    "test_total = 202667\n",
    "\n",
    "\n",
    "data = [[control_paid, control_total - control_paid],\n",
    "        [test_paid, test_total - test_paid]]\n",
    "\n",
    "# Хи-квадрат тест\n",
    "chi2, p, dof, expected = stats.chi2_contingency(data)\n",
    "\n",
    "print(f\"p-value: {p}\")\n",
    "\n"
   ]
  },
  {
   "cell_type": "markdown",
   "metadata": {},
   "source": [
    "Вывод: Различия стат.значимы ( p < 0.05 )"
   ]
  },
  {
   "cell_type": "markdown",
   "metadata": {},
   "source": [
    "##### Наши данные о выручке по группам распределены ненормально (очевидно по графикам + провела тест Шапиро-Уилка), поэтому в качестве стат.теста для анализа метрики ARPU воспользуемся тестом Манна-Уитни "
   ]
  },
  {
   "cell_type": "code",
   "execution_count": 43,
   "metadata": {},
   "outputs": [
    {
     "name": "stdout",
     "output_type": "stream",
     "text": [
      "Mann-Whitney U test: U-statistic=20491259376.0, p-value=0.06269701316074398\n"
     ]
    }
   ],
   "source": [
    "import numpy as np\n",
    "from scipy import stats\n",
    "group_a = ab_df[ab_df['testgroup'] == 'a']['revenue']\n",
    "group_b = ab_df[ab_df['testgroup'] == 'b']['revenue']\n",
    "u_statistic, p_value = stats.mannwhitneyu(group_a, group_b)\n",
    "print(f\"Mann-Whitney U test: U-statistic={u_statistic}, p-value={p_value}\")"
   ]
  },
  {
   "cell_type": "markdown",
   "metadata": {},
   "source": [
    "Вывод: Мы не можем делать вывод о стат.значимости различий медиан доходов(revenue) от обеих групп пользователей (контрольной и тестовой) при уровне значимости 5%."
   ]
  },
  {
   "cell_type": "markdown",
   "metadata": {},
   "source": [
    "##### ------------------------------------------------------------------------------------------------------------------------------------------------------------------------------------------------------"
   ]
  },
  {
   "cell_type": "markdown",
   "metadata": {},
   "source": [
    "Меня интересует вопрос аномальных пользователей в контрольной группе, попробуем понять, есть ли у них что-то общее"
   ]
  },
  {
   "cell_type": "code",
   "execution_count": 44,
   "metadata": {},
   "outputs": [],
   "source": [
    "ab_df=ab_df.rename(columns={'user_id':'uid'})"
   ]
  },
  {
   "cell_type": "code",
   "execution_count": 45,
   "metadata": {},
   "outputs": [
    {
     "data": {
      "text/html": [
       "<div>\n",
       "<style scoped>\n",
       "    .dataframe tbody tr th:only-of-type {\n",
       "        vertical-align: middle;\n",
       "    }\n",
       "\n",
       "    .dataframe tbody tr th {\n",
       "        vertical-align: top;\n",
       "    }\n",
       "\n",
       "    .dataframe thead th {\n",
       "        text-align: right;\n",
       "    }\n",
       "</style>\n",
       "<table border=\"1\" class=\"dataframe\">\n",
       "  <thead>\n",
       "    <tr style=\"text-align: right;\">\n",
       "      <th></th>\n",
       "      <th>uid</th>\n",
       "      <th>reg_date</th>\n",
       "    </tr>\n",
       "  </thead>\n",
       "  <tbody>\n",
       "    <tr>\n",
       "      <th>0</th>\n",
       "      <td>1</td>\n",
       "      <td>1998-11-18 09:43:43</td>\n",
       "    </tr>\n",
       "    <tr>\n",
       "      <th>1</th>\n",
       "      <td>2</td>\n",
       "      <td>1999-07-22 22:38:09</td>\n",
       "    </tr>\n",
       "    <tr>\n",
       "      <th>2</th>\n",
       "      <td>3</td>\n",
       "      <td>2000-01-13 22:27:27</td>\n",
       "    </tr>\n",
       "    <tr>\n",
       "      <th>3</th>\n",
       "      <td>4</td>\n",
       "      <td>2000-05-28 14:19:01</td>\n",
       "    </tr>\n",
       "    <tr>\n",
       "      <th>4</th>\n",
       "      <td>5</td>\n",
       "      <td>2000-09-16 11:21:53</td>\n",
       "    </tr>\n",
       "    <tr>\n",
       "      <th>...</th>\n",
       "      <td>...</td>\n",
       "      <td>...</td>\n",
       "    </tr>\n",
       "    <tr>\n",
       "      <th>999995</th>\n",
       "      <td>1110618</td>\n",
       "      <td>2020-09-23 15:13:54</td>\n",
       "    </tr>\n",
       "    <tr>\n",
       "      <th>999996</th>\n",
       "      <td>1110619</td>\n",
       "      <td>2020-09-23 15:14:46</td>\n",
       "    </tr>\n",
       "    <tr>\n",
       "      <th>999997</th>\n",
       "      <td>1110620</td>\n",
       "      <td>2020-09-23 15:15:39</td>\n",
       "    </tr>\n",
       "    <tr>\n",
       "      <th>999998</th>\n",
       "      <td>1110621</td>\n",
       "      <td>2020-09-23 15:16:31</td>\n",
       "    </tr>\n",
       "    <tr>\n",
       "      <th>999999</th>\n",
       "      <td>1110622</td>\n",
       "      <td>2020-09-23 15:17:24</td>\n",
       "    </tr>\n",
       "  </tbody>\n",
       "</table>\n",
       "<p>1000000 rows × 2 columns</p>\n",
       "</div>"
      ],
      "text/plain": [
       "            uid            reg_date\n",
       "0             1 1998-11-18 09:43:43\n",
       "1             2 1999-07-22 22:38:09\n",
       "2             3 2000-01-13 22:27:27\n",
       "3             4 2000-05-28 14:19:01\n",
       "4             5 2000-09-16 11:21:53\n",
       "...         ...                 ...\n",
       "999995  1110618 2020-09-23 15:13:54\n",
       "999996  1110619 2020-09-23 15:14:46\n",
       "999997  1110620 2020-09-23 15:15:39\n",
       "999998  1110621 2020-09-23 15:16:31\n",
       "999999  1110622 2020-09-23 15:17:24\n",
       "\n",
       "[1000000 rows x 2 columns]"
      ]
     },
     "execution_count": 45,
     "metadata": {},
     "output_type": "execute_result"
    }
   ],
   "source": [
    "reg_date_df=reg[['uid', 'reg_date']]\n",
    "reg_date_df"
   ]
  },
  {
   "cell_type": "code",
   "execution_count": 46,
   "metadata": {},
   "outputs": [],
   "source": [
    "ab_reg=ab_df.merge(reg_date_df, on='uid')"
   ]
  },
  {
   "cell_type": "code",
   "execution_count": 47,
   "metadata": {},
   "outputs": [
    {
     "data": {
      "text/html": [
       "<div>\n",
       "<style scoped>\n",
       "    .dataframe tbody tr th:only-of-type {\n",
       "        vertical-align: middle;\n",
       "    }\n",
       "\n",
       "    .dataframe tbody tr th {\n",
       "        vertical-align: top;\n",
       "    }\n",
       "\n",
       "    .dataframe thead th {\n",
       "        text-align: right;\n",
       "    }\n",
       "</style>\n",
       "<table border=\"1\" class=\"dataframe\">\n",
       "  <thead>\n",
       "    <tr style=\"text-align: right;\">\n",
       "      <th></th>\n",
       "      <th>uid</th>\n",
       "      <th>revenue</th>\n",
       "      <th>testgroup</th>\n",
       "      <th>reg_date</th>\n",
       "    </tr>\n",
       "  </thead>\n",
       "  <tbody>\n",
       "    <tr>\n",
       "      <th>376</th>\n",
       "      <td>417</td>\n",
       "      <td>37324</td>\n",
       "      <td>a</td>\n",
       "      <td>2007-08-11 01:53:06</td>\n",
       "    </tr>\n",
       "    <tr>\n",
       "      <th>4026</th>\n",
       "      <td>4429</td>\n",
       "      <td>37304</td>\n",
       "      <td>a</td>\n",
       "      <td>2011-07-20 00:24:25</td>\n",
       "    </tr>\n",
       "    <tr>\n",
       "      <th>5231</th>\n",
       "      <td>5778</td>\n",
       "      <td>37315</td>\n",
       "      <td>a</td>\n",
       "      <td>2011-12-26 04:13:36</td>\n",
       "    </tr>\n",
       "    <tr>\n",
       "      <th>7304</th>\n",
       "      <td>8066</td>\n",
       "      <td>37307</td>\n",
       "      <td>a</td>\n",
       "      <td>2012-07-16 02:51:36</td>\n",
       "    </tr>\n",
       "    <tr>\n",
       "      <th>7908</th>\n",
       "      <td>8744</td>\n",
       "      <td>37334</td>\n",
       "      <td>a</td>\n",
       "      <td>2012-09-02 10:11:45</td>\n",
       "    </tr>\n",
       "    <tr>\n",
       "      <th>...</th>\n",
       "      <td>...</td>\n",
       "      <td>...</td>\n",
       "      <td>...</td>\n",
       "      <td>...</td>\n",
       "    </tr>\n",
       "    <tr>\n",
       "      <th>324715</th>\n",
       "      <td>360697</td>\n",
       "      <td>37347</td>\n",
       "      <td>a</td>\n",
       "      <td>2018-11-09 14:24:08</td>\n",
       "    </tr>\n",
       "    <tr>\n",
       "      <th>340962</th>\n",
       "      <td>378669</td>\n",
       "      <td>37297</td>\n",
       "      <td>a</td>\n",
       "      <td>2018-12-09 06:59:22</td>\n",
       "    </tr>\n",
       "    <tr>\n",
       "      <th>350577</th>\n",
       "      <td>389342</td>\n",
       "      <td>37298</td>\n",
       "      <td>a</td>\n",
       "      <td>2018-12-26 04:52:27</td>\n",
       "    </tr>\n",
       "    <tr>\n",
       "      <th>355310</th>\n",
       "      <td>394581</td>\n",
       "      <td>37302</td>\n",
       "      <td>a</td>\n",
       "      <td>2019-01-03 08:36:03</td>\n",
       "    </tr>\n",
       "    <tr>\n",
       "      <th>359586</th>\n",
       "      <td>399295</td>\n",
       "      <td>37321</td>\n",
       "      <td>a</td>\n",
       "      <td>2019-01-10 15:12:00</td>\n",
       "    </tr>\n",
       "  </tbody>\n",
       "</table>\n",
       "<p>117 rows × 4 columns</p>\n",
       "</div>"
      ],
      "text/plain": [
       "           uid  revenue testgroup            reg_date\n",
       "376        417    37324         a 2007-08-11 01:53:06\n",
       "4026      4429    37304         a 2011-07-20 00:24:25\n",
       "5231      5778    37315         a 2011-12-26 04:13:36\n",
       "7304      8066    37307         a 2012-07-16 02:51:36\n",
       "7908      8744    37334         a 2012-09-02 10:11:45\n",
       "...        ...      ...       ...                 ...\n",
       "324715  360697    37347         a 2018-11-09 14:24:08\n",
       "340962  378669    37297         a 2018-12-09 06:59:22\n",
       "350577  389342    37298         a 2018-12-26 04:52:27\n",
       "355310  394581    37302         a 2019-01-03 08:36:03\n",
       "359586  399295    37321         a 2019-01-10 15:12:00\n",
       "\n",
       "[117 rows x 4 columns]"
      ]
     },
     "execution_count": 47,
     "metadata": {},
     "output_type": "execute_result"
    }
   ],
   "source": [
    "a_reg=ab_reg.query('testgroup==\"a\"')\n",
    "a_reg_rich=a_reg.query('revenue > 37000')\n",
    "a_reg_rich"
   ]
  },
  {
   "cell_type": "code",
   "execution_count": 111,
   "metadata": {},
   "outputs": [
    {
     "data": {
      "text/plain": [
       "<matplotlib.axes._subplots.AxesSubplot at 0x7f5567790128>"
      ]
     },
     "execution_count": 111,
     "metadata": {},
     "output_type": "execute_result"
    },
    {
     "data": {
      "image/png": "[encoded data removed]",
      "text/plain": [
       "<Figure size 432x288 with 1 Axes>"
      ]
     },
     "metadata": {
      "needs_background": "light"
     },
     "output_type": "display_data"
    }
   ],
   "source": [
    "a_reg_rich.reg_date.hist(color='red', alpha=0.5, bins=30)"
   ]
  },
  {
   "cell_type": "code",
   "execution_count": 49,
   "metadata": {},
   "outputs": [
    {
     "data": {
      "text/html": [
       "<div>\n",
       "<style scoped>\n",
       "    .dataframe tbody tr th:only-of-type {\n",
       "        vertical-align: middle;\n",
       "    }\n",
       "\n",
       "    .dataframe tbody tr th {\n",
       "        vertical-align: top;\n",
       "    }\n",
       "\n",
       "    .dataframe thead th {\n",
       "        text-align: right;\n",
       "    }\n",
       "</style>\n",
       "<table border=\"1\" class=\"dataframe\">\n",
       "  <thead>\n",
       "    <tr style=\"text-align: right;\">\n",
       "      <th></th>\n",
       "      <th>uid</th>\n",
       "      <th>revenue</th>\n",
       "      <th>testgroup</th>\n",
       "      <th>reg_date</th>\n",
       "    </tr>\n",
       "  </thead>\n",
       "  <tbody>\n",
       "    <tr>\n",
       "      <th>1</th>\n",
       "      <td>2</td>\n",
       "      <td>0</td>\n",
       "      <td>a</td>\n",
       "      <td>1999-07-22 22:38:09</td>\n",
       "    </tr>\n",
       "    <tr>\n",
       "      <th>2</th>\n",
       "      <td>3</td>\n",
       "      <td>0</td>\n",
       "      <td>a</td>\n",
       "      <td>2000-01-13 22:27:27</td>\n",
       "    </tr>\n",
       "    <tr>\n",
       "      <th>9</th>\n",
       "      <td>10</td>\n",
       "      <td>0</td>\n",
       "      <td>a</td>\n",
       "      <td>2001-09-20 02:07:54</td>\n",
       "    </tr>\n",
       "    <tr>\n",
       "      <th>10</th>\n",
       "      <td>11</td>\n",
       "      <td>0</td>\n",
       "      <td>a</td>\n",
       "      <td>2001-11-12 01:05:37</td>\n",
       "    </tr>\n",
       "    <tr>\n",
       "      <th>11</th>\n",
       "      <td>12</td>\n",
       "      <td>0</td>\n",
       "      <td>a</td>\n",
       "      <td>2001-12-30 17:20:43</td>\n",
       "    </tr>\n",
       "    <tr>\n",
       "      <th>...</th>\n",
       "      <td>...</td>\n",
       "      <td>...</td>\n",
       "      <td>...</td>\n",
       "      <td>...</td>\n",
       "    </tr>\n",
       "    <tr>\n",
       "      <th>364545</th>\n",
       "      <td>404761</td>\n",
       "      <td>0</td>\n",
       "      <td>a</td>\n",
       "      <td>2019-01-18 23:06:22</td>\n",
       "    </tr>\n",
       "    <tr>\n",
       "      <th>364547</th>\n",
       "      <td>404763</td>\n",
       "      <td>0</td>\n",
       "      <td>a</td>\n",
       "      <td>2019-01-18 23:11:10</td>\n",
       "    </tr>\n",
       "    <tr>\n",
       "      <th>364550</th>\n",
       "      <td>404766</td>\n",
       "      <td>0</td>\n",
       "      <td>a</td>\n",
       "      <td>2019-01-18 23:18:23</td>\n",
       "    </tr>\n",
       "    <tr>\n",
       "      <th>364552</th>\n",
       "      <td>404768</td>\n",
       "      <td>231</td>\n",
       "      <td>a</td>\n",
       "      <td>2019-01-18 23:23:11</td>\n",
       "    </tr>\n",
       "    <tr>\n",
       "      <th>364553</th>\n",
       "      <td>404769</td>\n",
       "      <td>0</td>\n",
       "      <td>a</td>\n",
       "      <td>2019-01-18 23:25:35</td>\n",
       "    </tr>\n",
       "  </tbody>\n",
       "</table>\n",
       "<p>181865 rows × 4 columns</p>\n",
       "</div>"
      ],
      "text/plain": [
       "           uid  revenue testgroup            reg_date\n",
       "1            2        0         a 1999-07-22 22:38:09\n",
       "2            3        0         a 2000-01-13 22:27:27\n",
       "9           10        0         a 2001-09-20 02:07:54\n",
       "10          11        0         a 2001-11-12 01:05:37\n",
       "11          12        0         a 2001-12-30 17:20:43\n",
       "...        ...      ...       ...                 ...\n",
       "364545  404761        0         a 2019-01-18 23:06:22\n",
       "364547  404763        0         a 2019-01-18 23:11:10\n",
       "364550  404766        0         a 2019-01-18 23:18:23\n",
       "364552  404768      231         a 2019-01-18 23:23:11\n",
       "364553  404769        0         a 2019-01-18 23:25:35\n",
       "\n",
       "[181865 rows x 4 columns]"
      ]
     },
     "execution_count": 49,
     "metadata": {},
     "output_type": "execute_result"
    }
   ],
   "source": [
    "a_reg_poor=a_reg.query('revenue < 37000')\n",
    "a_reg_poor"
   ]
  },
  {
   "cell_type": "code",
   "execution_count": 112,
   "metadata": {},
   "outputs": [
    {
     "data": {
      "text/plain": [
       "<matplotlib.axes._subplots.AxesSubplot at 0x7f556805a7b8>"
      ]
     },
     "execution_count": 112,
     "metadata": {},
     "output_type": "execute_result"
    },
    {
     "data": {
      "image/png": "[encoded data removed]",
      "text/plain": [
       "<Figure size 432x288 with 1 Axes>"
      ]
     },
     "metadata": {
      "needs_background": "light"
     },
     "output_type": "display_data"
    }
   ],
   "source": [
    "a_reg_poor.reg_date.hist(color='blue', alpha=0.5, bins=30)"
   ]
  },
  {
   "cell_type": "code",
   "execution_count": 113,
   "metadata": {},
   "outputs": [
    {
     "data": {
      "image/png": "[encoded data removed]",
      "text/plain": [
       "<Figure size 1440x432 with 1 Axes>"
      ]
     },
     "metadata": {
      "needs_background": "light"
     },
     "output_type": "display_data"
    }
   ],
   "source": [
    "plt.figure(figsize=(20, 6))\n",
    "\n",
    "sns.kdeplot(a_reg_rich['reg_date'], color='red', label='Rich', fill=True, alpha=0.5)\n",
    "sns.kdeplot(a_reg_poor['reg_date'], color='blue', label='Poor', fill=True, alpha=0.5)\n",
    "\n",
    "plt.title('Графики плотности распределения дат регистрации')\n",
    "plt.xlabel('Дата регистрации')\n",
    "plt.ylabel('Плотность')\n",
    "plt.legend(loc='upper right')\n",
    "plt.show()"
   ]
  },
  {
   "cell_type": "markdown",
   "metadata": {},
   "source": [
    "Вывод: влияние даты регистрации на количество выручки, получаемой с пользователя не велико. Таким образом я отвергла свою теорию о том, что свыше 37000 мы получаем от старых преданных пользователей, к примеру."
   ]
  },
  {
   "cell_type": "markdown",
   "metadata": {},
   "source": [
    "Теперь можно посмотреть, есть ли различия в контрольной и тестовой группе по датам регистрации."
   ]
  },
  {
   "cell_type": "code",
   "execution_count": 52,
   "metadata": {},
   "outputs": [
    {
     "data": {
      "text/html": [
       "<div>\n",
       "<style scoped>\n",
       "    .dataframe tbody tr th:only-of-type {\n",
       "        vertical-align: middle;\n",
       "    }\n",
       "\n",
       "    .dataframe tbody tr th {\n",
       "        vertical-align: top;\n",
       "    }\n",
       "\n",
       "    .dataframe thead th {\n",
       "        text-align: right;\n",
       "    }\n",
       "</style>\n",
       "<table border=\"1\" class=\"dataframe\">\n",
       "  <thead>\n",
       "    <tr style=\"text-align: right;\">\n",
       "      <th></th>\n",
       "      <th>uid</th>\n",
       "      <th>revenue</th>\n",
       "      <th>testgroup</th>\n",
       "      <th>reg_date</th>\n",
       "    </tr>\n",
       "  </thead>\n",
       "  <tbody>\n",
       "    <tr>\n",
       "      <th>0</th>\n",
       "      <td>1</td>\n",
       "      <td>0</td>\n",
       "      <td>b</td>\n",
       "      <td>1998-11-18 09:43:43</td>\n",
       "    </tr>\n",
       "    <tr>\n",
       "      <th>1</th>\n",
       "      <td>2</td>\n",
       "      <td>0</td>\n",
       "      <td>a</td>\n",
       "      <td>1999-07-22 22:38:09</td>\n",
       "    </tr>\n",
       "    <tr>\n",
       "      <th>2</th>\n",
       "      <td>3</td>\n",
       "      <td>0</td>\n",
       "      <td>a</td>\n",
       "      <td>2000-01-13 22:27:27</td>\n",
       "    </tr>\n",
       "    <tr>\n",
       "      <th>3</th>\n",
       "      <td>4</td>\n",
       "      <td>0</td>\n",
       "      <td>b</td>\n",
       "      <td>2000-05-28 14:19:01</td>\n",
       "    </tr>\n",
       "    <tr>\n",
       "      <th>4</th>\n",
       "      <td>5</td>\n",
       "      <td>0</td>\n",
       "      <td>b</td>\n",
       "      <td>2000-09-16 11:21:53</td>\n",
       "    </tr>\n",
       "    <tr>\n",
       "      <th>...</th>\n",
       "      <td>...</td>\n",
       "      <td>...</td>\n",
       "      <td>...</td>\n",
       "      <td>...</td>\n",
       "    </tr>\n",
       "    <tr>\n",
       "      <th>364550</th>\n",
       "      <td>404766</td>\n",
       "      <td>0</td>\n",
       "      <td>a</td>\n",
       "      <td>2019-01-18 23:18:23</td>\n",
       "    </tr>\n",
       "    <tr>\n",
       "      <th>364551</th>\n",
       "      <td>404767</td>\n",
       "      <td>0</td>\n",
       "      <td>b</td>\n",
       "      <td>2019-01-18 23:20:47</td>\n",
       "    </tr>\n",
       "    <tr>\n",
       "      <th>364552</th>\n",
       "      <td>404768</td>\n",
       "      <td>231</td>\n",
       "      <td>a</td>\n",
       "      <td>2019-01-18 23:23:11</td>\n",
       "    </tr>\n",
       "    <tr>\n",
       "      <th>364553</th>\n",
       "      <td>404769</td>\n",
       "      <td>0</td>\n",
       "      <td>a</td>\n",
       "      <td>2019-01-18 23:25:35</td>\n",
       "    </tr>\n",
       "    <tr>\n",
       "      <th>364554</th>\n",
       "      <td>404770</td>\n",
       "      <td>0</td>\n",
       "      <td>b</td>\n",
       "      <td>2019-01-18 23:27:59</td>\n",
       "    </tr>\n",
       "  </tbody>\n",
       "</table>\n",
       "<p>364555 rows × 4 columns</p>\n",
       "</div>"
      ],
      "text/plain": [
       "           uid  revenue testgroup            reg_date\n",
       "0            1        0         b 1998-11-18 09:43:43\n",
       "1            2        0         a 1999-07-22 22:38:09\n",
       "2            3        0         a 2000-01-13 22:27:27\n",
       "3            4        0         b 2000-05-28 14:19:01\n",
       "4            5        0         b 2000-09-16 11:21:53\n",
       "...        ...      ...       ...                 ...\n",
       "364550  404766        0         a 2019-01-18 23:18:23\n",
       "364551  404767        0         b 2019-01-18 23:20:47\n",
       "364552  404768      231         a 2019-01-18 23:23:11\n",
       "364553  404769        0         a 2019-01-18 23:25:35\n",
       "364554  404770        0         b 2019-01-18 23:27:59\n",
       "\n",
       "[364555 rows x 4 columns]"
      ]
     },
     "execution_count": 52,
     "metadata": {},
     "output_type": "execute_result"
    }
   ],
   "source": [
    "ab_reg"
   ]
  },
  {
   "cell_type": "code",
   "execution_count": 53,
   "metadata": {},
   "outputs": [
    {
     "data": {
      "text/html": [
       "<div>\n",
       "<style scoped>\n",
       "    .dataframe tbody tr th:only-of-type {\n",
       "        vertical-align: middle;\n",
       "    }\n",
       "\n",
       "    .dataframe tbody tr th {\n",
       "        vertical-align: top;\n",
       "    }\n",
       "\n",
       "    .dataframe thead th {\n",
       "        text-align: right;\n",
       "    }\n",
       "</style>\n",
       "<table border=\"1\" class=\"dataframe\">\n",
       "  <thead>\n",
       "    <tr style=\"text-align: right;\">\n",
       "      <th></th>\n",
       "      <th>uid</th>\n",
       "      <th>revenue</th>\n",
       "      <th>testgroup</th>\n",
       "      <th>reg_date</th>\n",
       "    </tr>\n",
       "  </thead>\n",
       "  <tbody>\n",
       "    <tr>\n",
       "      <th>0</th>\n",
       "      <td>1</td>\n",
       "      <td>0</td>\n",
       "      <td>b</td>\n",
       "      <td>1998-11-18 09:43:43</td>\n",
       "    </tr>\n",
       "    <tr>\n",
       "      <th>3</th>\n",
       "      <td>4</td>\n",
       "      <td>0</td>\n",
       "      <td>b</td>\n",
       "      <td>2000-05-28 14:19:01</td>\n",
       "    </tr>\n",
       "    <tr>\n",
       "      <th>4</th>\n",
       "      <td>5</td>\n",
       "      <td>0</td>\n",
       "      <td>b</td>\n",
       "      <td>2000-09-16 11:21:53</td>\n",
       "    </tr>\n",
       "    <tr>\n",
       "      <th>5</th>\n",
       "      <td>6</td>\n",
       "      <td>0</td>\n",
       "      <td>b</td>\n",
       "      <td>2000-12-19 06:14:55</td>\n",
       "    </tr>\n",
       "    <tr>\n",
       "      <th>6</th>\n",
       "      <td>7</td>\n",
       "      <td>0</td>\n",
       "      <td>b</td>\n",
       "      <td>2001-03-10 11:11:11</td>\n",
       "    </tr>\n",
       "    <tr>\n",
       "      <th>...</th>\n",
       "      <td>...</td>\n",
       "      <td>...</td>\n",
       "      <td>...</td>\n",
       "      <td>...</td>\n",
       "    </tr>\n",
       "    <tr>\n",
       "      <th>364546</th>\n",
       "      <td>404762</td>\n",
       "      <td>0</td>\n",
       "      <td>b</td>\n",
       "      <td>2019-01-18 23:08:46</td>\n",
       "    </tr>\n",
       "    <tr>\n",
       "      <th>364548</th>\n",
       "      <td>404764</td>\n",
       "      <td>0</td>\n",
       "      <td>b</td>\n",
       "      <td>2019-01-18 23:13:34</td>\n",
       "    </tr>\n",
       "    <tr>\n",
       "      <th>364549</th>\n",
       "      <td>404765</td>\n",
       "      <td>0</td>\n",
       "      <td>b</td>\n",
       "      <td>2019-01-18 23:15:58</td>\n",
       "    </tr>\n",
       "    <tr>\n",
       "      <th>364551</th>\n",
       "      <td>404767</td>\n",
       "      <td>0</td>\n",
       "      <td>b</td>\n",
       "      <td>2019-01-18 23:20:47</td>\n",
       "    </tr>\n",
       "    <tr>\n",
       "      <th>364554</th>\n",
       "      <td>404770</td>\n",
       "      <td>0</td>\n",
       "      <td>b</td>\n",
       "      <td>2019-01-18 23:27:59</td>\n",
       "    </tr>\n",
       "  </tbody>\n",
       "</table>\n",
       "<p>182573 rows × 4 columns</p>\n",
       "</div>"
      ],
      "text/plain": [
       "           uid  revenue testgroup            reg_date\n",
       "0            1        0         b 1998-11-18 09:43:43\n",
       "3            4        0         b 2000-05-28 14:19:01\n",
       "4            5        0         b 2000-09-16 11:21:53\n",
       "5            6        0         b 2000-12-19 06:14:55\n",
       "6            7        0         b 2001-03-10 11:11:11\n",
       "...        ...      ...       ...                 ...\n",
       "364546  404762        0         b 2019-01-18 23:08:46\n",
       "364548  404764        0         b 2019-01-18 23:13:34\n",
       "364549  404765        0         b 2019-01-18 23:15:58\n",
       "364551  404767        0         b 2019-01-18 23:20:47\n",
       "364554  404770        0         b 2019-01-18 23:27:59\n",
       "\n",
       "[182573 rows x 4 columns]"
      ]
     },
     "execution_count": 53,
     "metadata": {},
     "output_type": "execute_result"
    }
   ],
   "source": [
    "b_reg=ab_reg.query('testgroup==\"b\"')\n",
    "b_reg"
   ]
  },
  {
   "cell_type": "code",
   "execution_count": 54,
   "metadata": {},
   "outputs": [
    {
     "data": {
      "image/png": "[encoded data removed]",
      "text/plain": [
       "<Figure size 1440x432 with 1 Axes>"
      ]
     },
     "metadata": {
      "needs_background": "light"
     },
     "output_type": "display_data"
    }
   ],
   "source": [
    "plt.figure(figsize=(20, 6))\n",
    "\n",
    "sns.kdeplot(a_reg['reg_date'], color='blue', label='Контрольная группа', fill=True, alpha=0.5)\n",
    "sns.kdeplot(b_reg['reg_date'], color='red', label='Тестовая группа', fill=True, alpha=0.5)\n",
    "\n",
    "plt.title('Графики плотности распределения дат регистрации')\n",
    "plt.xlabel('Дата регистрации')\n",
    "plt.ylabel('Плотность')\n",
    "plt.legend(loc='upper right')\n",
    "plt.show()"
   ]
  },
  {
   "cell_type": "markdown",
   "metadata": {},
   "source": [
    "Нет, разницы нет, похоже, выборки были сделаны случайно."
   ]
  },
  {
   "cell_type": "markdown",
   "metadata": {},
   "source": [
    "##### ------------------------------------------------------------------------------------------------------------------------------------------------------------------------------------------------------"
   ]
  },
  {
   "cell_type": "markdown",
   "metadata": {},
   "source": [
    "# ВЫВОДЫ:"
   ]
  },
  {
   "cell_type": "markdown",
   "metadata": {},
   "source": [
    "Результаты неоднозначны. У контрольной группы и тестовой не сильно различаются показатели средней выручки, конверсий и в целом разных метрик, однако сам характер распределения выручки по пользователям меняется кардинально. Анализируя данные, у меня не получилось разобраться в причинах таких изменений, возможно, для этого требуется дополнительная информация о компании, о пользователях мобильной игры, а также о характеристиках акционных предложений. Если делать вывод, то моя логика подсказывает, что компании лучше, если её важнейшие показатели зависят не всего лишь от сотни человек, которые платят сверхмного (123 таких человека в контрольной группе, 123 человека – это 6,4% от всех платящих пользователей из этой группы), а когда выручка распределена относительно равномерно среди всех платящих игроков, в таком случае положение становится более устойчивым. К тому же различия в конверсиях оказались стат.значимы, следовательно акционное предложение тестовой группы лучше стимулирует игроков на покупки. Таким образом, я считаю набор предложений для тестовой группы лучшим, однако принятие решение очень зависит и от сторонних факторов, таких как стратегический менеджмент мобильного приложения и других. "
   ]
  },
  {
   "cell_type": "markdown",
   "metadata": {},
   "source": [
    "# 3. В игре Plants & Gardens каждый месяц проводятся тематические события, ограниченные по времени. В них игроки могут получить уникальные предметы для сада и персонажей, дополнительные монеты или бонусы. Для получения награды требуется пройти ряд уровней за определенное время. С помощью каких метрик можно оценить результаты последнего прошедшего события? Предположим, в другом событии мы усложнили механику событий так, что при каждой неудачной попытке выполнения уровня игрок будет откатываться на несколько уровней назад. Изменится ли набор метрик оценки результата? Если да, то как?"
   ]
  },
  {
   "cell_type": "markdown",
   "metadata": {},
   "source": [
    "Существует множество простых и множество сложных метрик для оценки результатов события, я же предлагаю следующие:"
   ]
  },
  {
   "cell_type": "markdown",
   "metadata": {},
   "source": [
    "1.   Участие в событии:\n",
    "   - Количество игроков, принявших участие в событии.\n",
    "   - Доля активных игроков, принявших участие в событии (предварительно необходимо определить понятие \"активных игроков\", например, те, кто заходят в игру  не меньше 1 раза в неделю).\n",
    "   - Доля новичков, участвующих в событии (предварительно определить понятие \"новичок\", например, пользователи, зарегистрировавшиеся не ранее чем за неделю до события).\n"
   ]
  },
  {
   "cell_type": "markdown",
   "metadata": {},
   "source": [
    "2. Успешность прохождения:\n",
    "   - Процент игроков, завершивших событие полностью ((количество завершивших / количество участвующих)*100%).\n",
    "   - Средний уровень, до которого игроки дошли в событии ((сумма значений уровня, до которого дошел пользователь / количество участвующих)*100%)."
   ]
  },
  {
   "cell_type": "markdown",
   "metadata": {},
   "source": [
    "3. Частота попыток:\n",
    "   - Среднее количество попыток на игрока для завершения всех уровней события.\n",
    "   - Количество попыток, которые потребовались игрокам для прохождения отдельных уровней."
   ]
  },
  {
   "cell_type": "markdown",
   "metadata": {},
   "source": [
    "4. Время прохождения:\n",
    "   - Среднее время, затраченное на завершение события.\n",
    "   - Среднее время прохождения одного уровня."
   ]
  },
  {
   "cell_type": "markdown",
   "metadata": {},
   "source": [
    "5. Монетизация и вовлеченность:\n",
    "   - Количество и сумма внутриигровых покупок, совершённых во время события (например, для покупки дополнительных попыток или усилений).\n",
    "   - Изменение вовлеченности игроков (например, частота входа в игру) на период события.\n",
    "\n"
   ]
  },
  {
   "cell_type": "markdown",
   "metadata": {},
   "source": [
    "Если механика события усложнится, и при каждой неудачной попытке игрок будет откатываться назад, это может повлиять на набор метрик. Ключевые изменения:\n"
   ]
  },
  {
   "cell_type": "markdown",
   "metadata": {},
   "source": [
    "1. Частота неудачных попыток:\n",
    "   - Количество неудачных попыток до завершения события может значительно возрасти.\n",
    "   - Среднее количество откатов на игрока. Это новая метрика, которая будет показывать, сколько раз игроки откатывались назад."
   ]
  },
  {
   "cell_type": "markdown",
   "metadata": {},
   "source": [
    "2. Продолжительность прохождения:\n",
    "   - Среднее время завершения события может увеличиться из-за усложненной механики.\n",
    "   - Время, проведенное на каждом уровне, также может измениться, так как игрокам потребуется больше попыток."
   ]
  },
  {
   "cell_type": "markdown",
   "metadata": {},
   "source": [
    "3. Уровень прогресса игроков:\n",
    "   - Поскольку откаты затрудняют прохождение, метрика среднего уровня, до которого дошли игроки, может снизиться.\n",
    "   - Количество игроков, не завершивших событие, также может увеличиться, что отразится на проценте успешности."
   ]
  },
  {
   "cell_type": "markdown",
   "metadata": {},
   "source": [
    "4. Частота внутриигровых покупок:\n",
    "   - Можно ожидать увеличение покупок усилений, дополнительных жизней или попыток, так как игрокам потребуется больше ресурсов для преодоления уровня."
   ]
  },
  {
   "cell_type": "markdown",
   "metadata": {},
   "source": [
    "5. Отказ от события:\n",
    "   - Показатель отказа (доля игроков, которые прекратили участие в событии из-за его сложности) может вырасти, и это стоит отслеживать, чтобы понять влияние усложненной механики на удержание игроков."
   ]
  }
 ],
 "metadata": {
  "kernelspec": {
   "display_name": "Python 3",
   "language": "python",
   "name": "python3"
  },
  "language_info": {
   "codemirror_mode": {
    "name": "ipython",
    "version": 3
   },
   "file_extension": ".py",
   "mimetype": "text/x-python",
   "name": "python",
   "nbconvert_exporter": "python",
   "pygments_lexer": "ipython3",
   "version": "3.7.3"
  }
 },
 "nbformat": 4,
 "nbformat_minor": 4
}
