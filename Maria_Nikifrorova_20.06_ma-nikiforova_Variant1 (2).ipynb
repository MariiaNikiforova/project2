{
 "cells": [
  {
   "cell_type": "markdown",
   "metadata": {},
   "source": [
    "# ФИНАЛЬНЫЙ ПРОЕКТ                                                                     ВАРИАНТ 1"
   ]
  },
  {
   "cell_type": "markdown",
   "metadata": {},
   "source": [
    "# 1.В первую очередь, его интересует показатель retention. Напишите функцию для его подсчета."
   ]
  },
  {
   "cell_type": "code",
   "execution_count": 52,
   "metadata": {},
   "outputs": [],
   "source": [
    "import pandas as pd"
   ]
  },
  {
   "cell_type": "code",
   "execution_count": 53,
   "metadata": {},
   "outputs": [],
   "source": [
    "reg=pd.read_csv('shared/problem1-reg_data.csv', sep=';')"
   ]
  },
  {
   "cell_type": "code",
   "execution_count": 54,
   "metadata": {},
   "outputs": [
    {
     "data": {
      "text/html": [
       "<div>\n",
       "<style scoped>\n",
       "    .dataframe tbody tr th:only-of-type {\n",
       "        vertical-align: middle;\n",
       "    }\n",
       "\n",
       "    .dataframe tbody tr th {\n",
       "        vertical-align: top;\n",
       "    }\n",
       "\n",
       "    .dataframe thead th {\n",
       "        text-align: right;\n",
       "    }\n",
       "</style>\n",
       "<table border=\"1\" class=\"dataframe\">\n",
       "  <thead>\n",
       "    <tr style=\"text-align: right;\">\n",
       "      <th></th>\n",
       "      <th>reg_ts</th>\n",
       "      <th>uid</th>\n",
       "    </tr>\n",
       "  </thead>\n",
       "  <tbody>\n",
       "    <tr>\n",
       "      <th>0</th>\n",
       "      <td>911382223</td>\n",
       "      <td>1</td>\n",
       "    </tr>\n",
       "    <tr>\n",
       "      <th>1</th>\n",
       "      <td>932683089</td>\n",
       "      <td>2</td>\n",
       "    </tr>\n",
       "    <tr>\n",
       "      <th>2</th>\n",
       "      <td>947802447</td>\n",
       "      <td>3</td>\n",
       "    </tr>\n",
       "    <tr>\n",
       "      <th>3</th>\n",
       "      <td>959523541</td>\n",
       "      <td>4</td>\n",
       "    </tr>\n",
       "    <tr>\n",
       "      <th>4</th>\n",
       "      <td>969103313</td>\n",
       "      <td>5</td>\n",
       "    </tr>\n",
       "  </tbody>\n",
       "</table>\n",
       "</div>"
      ],
      "text/plain": [
       "      reg_ts  uid\n",
       "0  911382223    1\n",
       "1  932683089    2\n",
       "2  947802447    3\n",
       "3  959523541    4\n",
       "4  969103313    5"
      ]
     },
     "execution_count": 54,
     "metadata": {},
     "output_type": "execute_result"
    }
   ],
   "source": [
    "reg.head(5)"
   ]
  },
  {
   "cell_type": "code",
   "execution_count": 55,
   "metadata": {},
   "outputs": [
    {
     "name": "stdout",
     "output_type": "stream",
     "text": [
      "<class 'pandas.core.frame.DataFrame'>\n",
      "RangeIndex: 1000000 entries, 0 to 999999\n",
      "Data columns (total 2 columns):\n",
      " #   Column  Non-Null Count    Dtype\n",
      "---  ------  --------------    -----\n",
      " 0   reg_ts  1000000 non-null  int64\n",
      " 1   uid     1000000 non-null  int64\n",
      "dtypes: int64(2)\n",
      "memory usage: 15.3 MB\n"
     ]
    }
   ],
   "source": [
    "reg.info()"
   ]
  },
  {
   "cell_type": "code",
   "execution_count": 56,
   "metadata": {},
   "outputs": [
    {
     "data": {
      "text/plain": [
       "(1000000, 2)"
      ]
     },
     "execution_count": 56,
     "metadata": {},
     "output_type": "execute_result"
    }
   ],
   "source": [
    "reg.shape"
   ]
  },
  {
   "cell_type": "code",
   "execution_count": 57,
   "metadata": {},
   "outputs": [],
   "source": [
    "auth=pd.read_csv('shared/problem1-auth_data.csv', sep=';')"
   ]
  },
  {
   "cell_type": "code",
   "execution_count": 58,
   "metadata": {},
   "outputs": [
    {
     "data": {
      "text/html": [
       "<div>\n",
       "<style scoped>\n",
       "    .dataframe tbody tr th:only-of-type {\n",
       "        vertical-align: middle;\n",
       "    }\n",
       "\n",
       "    .dataframe tbody tr th {\n",
       "        vertical-align: top;\n",
       "    }\n",
       "\n",
       "    .dataframe thead th {\n",
       "        text-align: right;\n",
       "    }\n",
       "</style>\n",
       "<table border=\"1\" class=\"dataframe\">\n",
       "  <thead>\n",
       "    <tr style=\"text-align: right;\">\n",
       "      <th></th>\n",
       "      <th>auth_ts</th>\n",
       "      <th>uid</th>\n",
       "    </tr>\n",
       "  </thead>\n",
       "  <tbody>\n",
       "    <tr>\n",
       "      <th>0</th>\n",
       "      <td>911382223</td>\n",
       "      <td>1</td>\n",
       "    </tr>\n",
       "    <tr>\n",
       "      <th>1</th>\n",
       "      <td>932683089</td>\n",
       "      <td>2</td>\n",
       "    </tr>\n",
       "    <tr>\n",
       "      <th>2</th>\n",
       "      <td>932921206</td>\n",
       "      <td>2</td>\n",
       "    </tr>\n",
       "    <tr>\n",
       "      <th>3</th>\n",
       "      <td>933393015</td>\n",
       "      <td>2</td>\n",
       "    </tr>\n",
       "    <tr>\n",
       "      <th>4</th>\n",
       "      <td>933875379</td>\n",
       "      <td>2</td>\n",
       "    </tr>\n",
       "  </tbody>\n",
       "</table>\n",
       "</div>"
      ],
      "text/plain": [
       "     auth_ts  uid\n",
       "0  911382223    1\n",
       "1  932683089    2\n",
       "2  932921206    2\n",
       "3  933393015    2\n",
       "4  933875379    2"
      ]
     },
     "execution_count": 58,
     "metadata": {},
     "output_type": "execute_result"
    }
   ],
   "source": [
    "auth.head(5)"
   ]
  },
  {
   "cell_type": "code",
   "execution_count": 59,
   "metadata": {},
   "outputs": [
    {
     "name": "stdout",
     "output_type": "stream",
     "text": [
      "<class 'pandas.core.frame.DataFrame'>\n",
      "RangeIndex: 9601013 entries, 0 to 9601012\n",
      "Data columns (total 2 columns):\n",
      " #   Column   Dtype\n",
      "---  ------   -----\n",
      " 0   auth_ts  int64\n",
      " 1   uid      int64\n",
      "dtypes: int64(2)\n",
      "memory usage: 146.5 MB\n"
     ]
    }
   ],
   "source": [
    "auth.info()"
   ]
  },
  {
   "cell_type": "code",
   "execution_count": 60,
   "metadata": {},
   "outputs": [
    {
     "data": {
      "text/plain": [
       "(9601013, 2)"
      ]
     },
     "execution_count": 60,
     "metadata": {},
     "output_type": "execute_result"
    }
   ],
   "source": [
    "auth.shape"
   ]
  },
  {
   "cell_type": "markdown",
   "metadata": {},
   "source": [
    "Сейчас данные о времени регистрации и информация о времени захода представляет собой данные вида Int64 и показывают количество секунд, прошедших с 1 января 1970 года. На мой взгляд, это не очень удобно для дальнейшей работы, поэтому преобразуем данные в вид год-месяц-день, а сами данные в datetime64[ns]."
   ]
  },
  {
   "cell_type": "code",
   "execution_count": 61,
   "metadata": {},
   "outputs": [
    {
     "data": {
      "text/html": [
       "<div>\n",
       "<style scoped>\n",
       "    .dataframe tbody tr th:only-of-type {\n",
       "        vertical-align: middle;\n",
       "    }\n",
       "\n",
       "    .dataframe tbody tr th {\n",
       "        vertical-align: top;\n",
       "    }\n",
       "\n",
       "    .dataframe thead th {\n",
       "        text-align: right;\n",
       "    }\n",
       "</style>\n",
       "<table border=\"1\" class=\"dataframe\">\n",
       "  <thead>\n",
       "    <tr style=\"text-align: right;\">\n",
       "      <th></th>\n",
       "      <th>reg_date</th>\n",
       "      <th>uid</th>\n",
       "    </tr>\n",
       "  </thead>\n",
       "  <tbody>\n",
       "    <tr>\n",
       "      <th>0</th>\n",
       "      <td>1998-11-18</td>\n",
       "      <td>1</td>\n",
       "    </tr>\n",
       "    <tr>\n",
       "      <th>1</th>\n",
       "      <td>1999-07-22</td>\n",
       "      <td>2</td>\n",
       "    </tr>\n",
       "    <tr>\n",
       "      <th>2</th>\n",
       "      <td>2000-01-13</td>\n",
       "      <td>3</td>\n",
       "    </tr>\n",
       "    <tr>\n",
       "      <th>3</th>\n",
       "      <td>2000-05-28</td>\n",
       "      <td>4</td>\n",
       "    </tr>\n",
       "    <tr>\n",
       "      <th>4</th>\n",
       "      <td>2000-09-16</td>\n",
       "      <td>5</td>\n",
       "    </tr>\n",
       "  </tbody>\n",
       "</table>\n",
       "</div>"
      ],
      "text/plain": [
       "    reg_date  uid\n",
       "0 1998-11-18    1\n",
       "1 1999-07-22    2\n",
       "2 2000-01-13    3\n",
       "3 2000-05-28    4\n",
       "4 2000-09-16    5"
      ]
     },
     "execution_count": 61,
     "metadata": {},
     "output_type": "execute_result"
    }
   ],
   "source": [
    "reg['reg_ts'] = pd.to_datetime(reg['reg_ts'], unit='s')\n",
    "reg['reg_ts'] = reg.reg_ts.astype('datetime64[D]')\n",
    "reg=reg.rename(columns={'reg_ts':'reg_date'})\n",
    "reg.head(5)"
   ]
  },
  {
   "cell_type": "code",
   "execution_count": 62,
   "metadata": {},
   "outputs": [
    {
     "data": {
      "text/html": [
       "<div>\n",
       "<style scoped>\n",
       "    .dataframe tbody tr th:only-of-type {\n",
       "        vertical-align: middle;\n",
       "    }\n",
       "\n",
       "    .dataframe tbody tr th {\n",
       "        vertical-align: top;\n",
       "    }\n",
       "\n",
       "    .dataframe thead th {\n",
       "        text-align: right;\n",
       "    }\n",
       "</style>\n",
       "<table border=\"1\" class=\"dataframe\">\n",
       "  <thead>\n",
       "    <tr style=\"text-align: right;\">\n",
       "      <th></th>\n",
       "      <th>auth_date</th>\n",
       "      <th>uid</th>\n",
       "    </tr>\n",
       "  </thead>\n",
       "  <tbody>\n",
       "    <tr>\n",
       "      <th>0</th>\n",
       "      <td>1998-11-18</td>\n",
       "      <td>1</td>\n",
       "    </tr>\n",
       "    <tr>\n",
       "      <th>1</th>\n",
       "      <td>1999-07-22</td>\n",
       "      <td>2</td>\n",
       "    </tr>\n",
       "    <tr>\n",
       "      <th>2</th>\n",
       "      <td>1999-07-25</td>\n",
       "      <td>2</td>\n",
       "    </tr>\n",
       "    <tr>\n",
       "      <th>3</th>\n",
       "      <td>1999-07-31</td>\n",
       "      <td>2</td>\n",
       "    </tr>\n",
       "    <tr>\n",
       "      <th>4</th>\n",
       "      <td>1999-08-05</td>\n",
       "      <td>2</td>\n",
       "    </tr>\n",
       "  </tbody>\n",
       "</table>\n",
       "</div>"
      ],
      "text/plain": [
       "   auth_date  uid\n",
       "0 1998-11-18    1\n",
       "1 1999-07-22    2\n",
       "2 1999-07-25    2\n",
       "3 1999-07-31    2\n",
       "4 1999-08-05    2"
      ]
     },
     "execution_count": 62,
     "metadata": {},
     "output_type": "execute_result"
    }
   ],
   "source": [
    "auth['auth_ts']= pd.to_datetime(auth['auth_ts'], unit ='s')\n",
    "auth['auth_ts'] = auth.auth_ts.astype('datetime64[D]')\n",
    "auth=auth.rename(columns={'auth_ts':'auth_date'})\n",
    "auth.head(5)"
   ]
  },
  {
   "cell_type": "markdown",
   "metadata": {},
   "source": [
    "Для создания функции ограничимся лишь частью данных (выберем сэмпл), так как данных слишком много, и питон может устать :("
   ]
  },
  {
   "cell_type": "code",
   "execution_count": 63,
   "metadata": {},
   "outputs": [
    {
     "data": {
      "text/plain": [
       "Timestamp('2020-09-23 00:00:00')"
      ]
     },
     "execution_count": 63,
     "metadata": {},
     "output_type": "execute_result"
    }
   ],
   "source": [
    "auth.auth_date.max()  #последняя имеющаяся запись об авторизации пользователя\n"
   ]
  },
  {
   "cell_type": "markdown",
   "metadata": {},
   "source": [
    "Рассчитаем retention для пользователей, зарегистрированных с 2020-08-24 до 2020-08-31 (в последнюю неделю августа). Возьмем retention_days равным 23, поскольку человек, зарегистрировавшийся в последний день наших временных рамок – 2020-08-31 может зайти \"последний\" раз в приложение только через 23 дня, т.е 2020-09-23 (после этого у нас нет данных). Я выбрала такие даты, посокольку они отражают анализ новейших пользователей и являются актуальными, однако можно использовать любые необходимые значения."
   ]
  },
  {
   "cell_type": "markdown",
   "metadata": {},
   "source": [
    "###### --------------------------------------------------------------------------------------------------------------------------------"
   ]
  },
  {
   "cell_type": "code",
   "execution_count": 64,
   "metadata": {},
   "outputs": [
    {
     "data": {
      "image/png": "[encoded data removed]",
      "text/plain": [
       "<Figure size 864x576 with 2 Axes>"
      ]
     },
     "metadata": {
      "needs_background": "light"
     },
     "output_type": "display_data"
    },
    {
     "data": {
      "text/html": [
       "<div>\n",
       "<style scoped>\n",
       "    .dataframe tbody tr th:only-of-type {\n",
       "        vertical-align: middle;\n",
       "    }\n",
       "\n",
       "    .dataframe tbody tr th {\n",
       "        vertical-align: top;\n",
       "    }\n",
       "\n",
       "    .dataframe thead th {\n",
       "        text-align: right;\n",
       "    }\n",
       "</style>\n",
       "<table border=\"1\" class=\"dataframe\">\n",
       "  <thead>\n",
       "    <tr style=\"text-align: right;\">\n",
       "      <th>days_since_reg</th>\n",
       "      <th>1</th>\n",
       "      <th>2</th>\n",
       "      <th>3</th>\n",
       "      <th>4</th>\n",
       "      <th>5</th>\n",
       "      <th>6</th>\n",
       "      <th>7</th>\n",
       "      <th>8</th>\n",
       "      <th>9</th>\n",
       "      <th>10</th>\n",
       "      <th>...</th>\n",
       "      <th>14</th>\n",
       "      <th>15</th>\n",
       "      <th>16</th>\n",
       "      <th>17</th>\n",
       "      <th>18</th>\n",
       "      <th>19</th>\n",
       "      <th>20</th>\n",
       "      <th>21</th>\n",
       "      <th>22</th>\n",
       "      <th>23</th>\n",
       "    </tr>\n",
       "    <tr>\n",
       "      <th>reg_date</th>\n",
       "      <th></th>\n",
       "      <th></th>\n",
       "      <th></th>\n",
       "      <th></th>\n",
       "      <th></th>\n",
       "      <th></th>\n",
       "      <th></th>\n",
       "      <th></th>\n",
       "      <th></th>\n",
       "      <th></th>\n",
       "      <th></th>\n",
       "      <th></th>\n",
       "      <th></th>\n",
       "      <th></th>\n",
       "      <th></th>\n",
       "      <th></th>\n",
       "      <th></th>\n",
       "      <th></th>\n",
       "      <th></th>\n",
       "      <th></th>\n",
       "      <th></th>\n",
       "    </tr>\n",
       "  </thead>\n",
       "  <tbody>\n",
       "    <tr>\n",
       "      <th>2020-08-24</th>\n",
       "      <td>1.789137</td>\n",
       "      <td>4.153355</td>\n",
       "      <td>4.281150</td>\n",
       "      <td>5.111821</td>\n",
       "      <td>5.750799</td>\n",
       "      <td>7.603834</td>\n",
       "      <td>6.006390</td>\n",
       "      <td>4.920128</td>\n",
       "      <td>5.175719</td>\n",
       "      <td>5.175719</td>\n",
       "      <td>...</td>\n",
       "      <td>4.536741</td>\n",
       "      <td>5.111821</td>\n",
       "      <td>4.345048</td>\n",
       "      <td>4.664537</td>\n",
       "      <td>4.089457</td>\n",
       "      <td>5.111821</td>\n",
       "      <td>3.961661</td>\n",
       "      <td>3.514377</td>\n",
       "      <td>3.642173</td>\n",
       "      <td>3.450479</td>\n",
       "    </tr>\n",
       "    <tr>\n",
       "      <th>2020-08-25</th>\n",
       "      <td>1.978302</td>\n",
       "      <td>4.403318</td>\n",
       "      <td>4.786216</td>\n",
       "      <td>5.679643</td>\n",
       "      <td>5.296745</td>\n",
       "      <td>5.296745</td>\n",
       "      <td>6.253989</td>\n",
       "      <td>3.701340</td>\n",
       "      <td>5.743459</td>\n",
       "      <td>4.722399</td>\n",
       "      <td>...</td>\n",
       "      <td>4.339502</td>\n",
       "      <td>4.850032</td>\n",
       "      <td>4.275686</td>\n",
       "      <td>4.084237</td>\n",
       "      <td>3.765156</td>\n",
       "      <td>4.339502</td>\n",
       "      <td>3.637524</td>\n",
       "      <td>3.509892</td>\n",
       "      <td>3.573708</td>\n",
       "      <td>3.254627</td>\n",
       "    </tr>\n",
       "    <tr>\n",
       "      <th>2020-08-26</th>\n",
       "      <td>1.464968</td>\n",
       "      <td>3.439490</td>\n",
       "      <td>4.203822</td>\n",
       "      <td>4.522293</td>\n",
       "      <td>6.433121</td>\n",
       "      <td>6.560510</td>\n",
       "      <td>5.987261</td>\n",
       "      <td>4.585987</td>\n",
       "      <td>4.331210</td>\n",
       "      <td>4.076433</td>\n",
       "      <td>...</td>\n",
       "      <td>4.777070</td>\n",
       "      <td>3.312102</td>\n",
       "      <td>3.949045</td>\n",
       "      <td>4.140127</td>\n",
       "      <td>4.012739</td>\n",
       "      <td>3.949045</td>\n",
       "      <td>3.757962</td>\n",
       "      <td>2.611465</td>\n",
       "      <td>4.267516</td>\n",
       "      <td>3.248408</td>\n",
       "    </tr>\n",
       "    <tr>\n",
       "      <th>2020-08-27</th>\n",
       "      <td>1.652893</td>\n",
       "      <td>3.369358</td>\n",
       "      <td>4.767959</td>\n",
       "      <td>5.212969</td>\n",
       "      <td>5.530833</td>\n",
       "      <td>6.166561</td>\n",
       "      <td>5.721551</td>\n",
       "      <td>4.322950</td>\n",
       "      <td>5.403687</td>\n",
       "      <td>5.403687</td>\n",
       "      <td>...</td>\n",
       "      <td>4.195804</td>\n",
       "      <td>4.577241</td>\n",
       "      <td>4.259377</td>\n",
       "      <td>4.577241</td>\n",
       "      <td>3.623649</td>\n",
       "      <td>3.623649</td>\n",
       "      <td>3.560076</td>\n",
       "      <td>4.640814</td>\n",
       "      <td>2.987921</td>\n",
       "      <td>2.987921</td>\n",
       "    </tr>\n",
       "    <tr>\n",
       "      <th>2020-08-28</th>\n",
       "      <td>2.031746</td>\n",
       "      <td>4.571429</td>\n",
       "      <td>5.269841</td>\n",
       "      <td>4.761905</td>\n",
       "      <td>6.285714</td>\n",
       "      <td>6.222222</td>\n",
       "      <td>5.460317</td>\n",
       "      <td>5.587302</td>\n",
       "      <td>5.269841</td>\n",
       "      <td>4.825397</td>\n",
       "      <td>...</td>\n",
       "      <td>4.888889</td>\n",
       "      <td>4.507937</td>\n",
       "      <td>4.952381</td>\n",
       "      <td>5.269841</td>\n",
       "      <td>4.444444</td>\n",
       "      <td>4.253968</td>\n",
       "      <td>4.126984</td>\n",
       "      <td>4.380952</td>\n",
       "      <td>4.698413</td>\n",
       "      <td>4.063492</td>\n",
       "    </tr>\n",
       "    <tr>\n",
       "      <th>2020-08-29</th>\n",
       "      <td>2.534854</td>\n",
       "      <td>3.738910</td>\n",
       "      <td>4.626109</td>\n",
       "      <td>5.703422</td>\n",
       "      <td>5.513308</td>\n",
       "      <td>6.970849</td>\n",
       "      <td>5.703422</td>\n",
       "      <td>4.562738</td>\n",
       "      <td>6.020279</td>\n",
       "      <td>4.309252</td>\n",
       "      <td>...</td>\n",
       "      <td>5.386565</td>\n",
       "      <td>4.752852</td>\n",
       "      <td>4.562738</td>\n",
       "      <td>4.499366</td>\n",
       "      <td>3.802281</td>\n",
       "      <td>4.435995</td>\n",
       "      <td>3.422053</td>\n",
       "      <td>4.435995</td>\n",
       "      <td>4.245881</td>\n",
       "      <td>3.485425</td>\n",
       "    </tr>\n",
       "    <tr>\n",
       "      <th>2020-08-30</th>\n",
       "      <td>1.835443</td>\n",
       "      <td>3.481013</td>\n",
       "      <td>3.924051</td>\n",
       "      <td>5.379747</td>\n",
       "      <td>5.949367</td>\n",
       "      <td>6.582278</td>\n",
       "      <td>5.569620</td>\n",
       "      <td>4.303797</td>\n",
       "      <td>4.303797</td>\n",
       "      <td>5.189873</td>\n",
       "      <td>...</td>\n",
       "      <td>4.113924</td>\n",
       "      <td>4.367089</td>\n",
       "      <td>3.291139</td>\n",
       "      <td>4.303797</td>\n",
       "      <td>4.493671</td>\n",
       "      <td>3.670886</td>\n",
       "      <td>3.860759</td>\n",
       "      <td>3.607595</td>\n",
       "      <td>4.050633</td>\n",
       "      <td>3.734177</td>\n",
       "    </tr>\n",
       "    <tr>\n",
       "      <th>2020-08-31</th>\n",
       "      <td>1.831965</td>\n",
       "      <td>3.663929</td>\n",
       "      <td>4.232470</td>\n",
       "      <td>5.116867</td>\n",
       "      <td>6.885660</td>\n",
       "      <td>6.506633</td>\n",
       "      <td>6.696147</td>\n",
       "      <td>4.801011</td>\n",
       "      <td>5.369551</td>\n",
       "      <td>5.053696</td>\n",
       "      <td>...</td>\n",
       "      <td>3.853443</td>\n",
       "      <td>5.180038</td>\n",
       "      <td>4.737840</td>\n",
       "      <td>3.663929</td>\n",
       "      <td>3.790272</td>\n",
       "      <td>4.548326</td>\n",
       "      <td>3.474416</td>\n",
       "      <td>3.979785</td>\n",
       "      <td>2.779533</td>\n",
       "      <td>1.895136</td>\n",
       "    </tr>\n",
       "  </tbody>\n",
       "</table>\n",
       "<p>8 rows × 23 columns</p>\n",
       "</div>"
      ],
      "text/plain": [
       "days_since_reg        1         2         3         4         5         6   \\\n",
       "reg_date                                                                     \n",
       "2020-08-24      1.789137  4.153355  4.281150  5.111821  5.750799  7.603834   \n",
       "2020-08-25      1.978302  4.403318  4.786216  5.679643  5.296745  5.296745   \n",
       "2020-08-26      1.464968  3.439490  4.203822  4.522293  6.433121  6.560510   \n",
       "2020-08-27      1.652893  3.369358  4.767959  5.212969  5.530833  6.166561   \n",
       "2020-08-28      2.031746  4.571429  5.269841  4.761905  6.285714  6.222222   \n",
       "2020-08-29      2.534854  3.738910  4.626109  5.703422  5.513308  6.970849   \n",
       "2020-08-30      1.835443  3.481013  3.924051  5.379747  5.949367  6.582278   \n",
       "2020-08-31      1.831965  3.663929  4.232470  5.116867  6.885660  6.506633   \n",
       "\n",
       "days_since_reg        7         8         9         10  ...        14  \\\n",
       "reg_date                                                ...             \n",
       "2020-08-24      6.006390  4.920128  5.175719  5.175719  ...  4.536741   \n",
       "2020-08-25      6.253989  3.701340  5.743459  4.722399  ...  4.339502   \n",
       "2020-08-26      5.987261  4.585987  4.331210  4.076433  ...  4.777070   \n",
       "2020-08-27      5.721551  4.322950  5.403687  5.403687  ...  4.195804   \n",
       "2020-08-28      5.460317  5.587302  5.269841  4.825397  ...  4.888889   \n",
       "2020-08-29      5.703422  4.562738  6.020279  4.309252  ...  5.386565   \n",
       "2020-08-30      5.569620  4.303797  4.303797  5.189873  ...  4.113924   \n",
       "2020-08-31      6.696147  4.801011  5.369551  5.053696  ...  3.853443   \n",
       "\n",
       "days_since_reg        15        16        17        18        19        20  \\\n",
       "reg_date                                                                     \n",
       "2020-08-24      5.111821  4.345048  4.664537  4.089457  5.111821  3.961661   \n",
       "2020-08-25      4.850032  4.275686  4.084237  3.765156  4.339502  3.637524   \n",
       "2020-08-26      3.312102  3.949045  4.140127  4.012739  3.949045  3.757962   \n",
       "2020-08-27      4.577241  4.259377  4.577241  3.623649  3.623649  3.560076   \n",
       "2020-08-28      4.507937  4.952381  5.269841  4.444444  4.253968  4.126984   \n",
       "2020-08-29      4.752852  4.562738  4.499366  3.802281  4.435995  3.422053   \n",
       "2020-08-30      4.367089  3.291139  4.303797  4.493671  3.670886  3.860759   \n",
       "2020-08-31      5.180038  4.737840  3.663929  3.790272  4.548326  3.474416   \n",
       "\n",
       "days_since_reg        21        22        23  \n",
       "reg_date                                      \n",
       "2020-08-24      3.514377  3.642173  3.450479  \n",
       "2020-08-25      3.509892  3.573708  3.254627  \n",
       "2020-08-26      2.611465  4.267516  3.248408  \n",
       "2020-08-27      4.640814  2.987921  2.987921  \n",
       "2020-08-28      4.380952  4.698413  4.063492  \n",
       "2020-08-29      4.435995  4.245881  3.485425  \n",
       "2020-08-30      3.607595  4.050633  3.734177  \n",
       "2020-08-31      3.979785  2.779533  1.895136  \n",
       "\n",
       "[8 rows x 23 columns]"
      ]
     },
     "execution_count": 64,
     "metadata": {},
     "output_type": "execute_result"
    }
   ],
   "source": [
    "def calculate_retention(start_date, end_date, reg, auth, retention_days):\n",
    "    \"\"\"\n",
    "    Рассчитывает ретеншн и строит heatmap.\n",
    "    \n",
    "    :param start_date: str, дата начала регистрации (например, '2020-08-24')\n",
    "    :param end_date: str, дата окончания регистрации (например, '2020-08-31')\n",
    "    :param reg: DataFrame, таблица регистрации со столбцами ['reg_date', 'uid']\n",
    "    :param auth: DataFrame, таблица посещений со столбцами ['auth_date', 'uid']\n",
    "    :param retention_days: int, количество дней для расчета ретеншна\n",
    "    :return: DataFrame, таблица ретеншна\n",
    "    \n",
    "    \"\"\"\n",
    "    # Преобразуем даты в формат datetime\n",
    "    reg['reg_date'] = pd.to_datetime(reg['reg_date'])\n",
    "    auth['auth_date'] = pd.to_datetime(auth['auth_date'])\n",
    "    \n",
    "    # Фильтруем пользователей по дате регистрации\n",
    "    reg_filtered = reg[(reg['reg_date'] >= start_date) & (reg['reg_date'] <= end_date)]\n",
    "    \n",
    "    # Объединяем таблицы\n",
    "    data = pd.merge(reg_filtered, auth, on='uid', how='inner')\n",
    "    \n",
    "    # Вычисляем разницу между датами (дни с момента регистрации)\n",
    "    data['days_since_reg'] = (data['auth_date'] - data['reg_date']).dt.days\n",
    "    \n",
    "    # Убираем события до регистрации и дни, выходящие за пределы retention_days\n",
    "    data = data[(data['days_since_reg'] >= 0) & (data['days_since_reg'] <= retention_days)]\n",
    "    \n",
    "    # Группируем данные по дате регистрации и дню с момента регистрации\n",
    "    retention = data.groupby(['reg_date', 'days_since_reg'])['uid'].nunique().unstack(fill_value=0)\n",
    "    \n",
    "    # Считаем процент возвратов\n",
    "    cohort_sizes = reg_filtered.groupby('reg_date')['uid'].nunique()\n",
    "    retention = retention.div(cohort_sizes, axis=0) * 100\n",
    "    \n",
    "    # Удаляем нулевой день (столбец 0)\n",
    "    if 0 in retention.columns:\n",
    "        retention = retention.drop(columns=0)\n",
    "    retention.index = retention.index.strftime('%Y-%m-%d')\n",
    "    # Визуализация heatmap\n",
    "    plt.figure(figsize=(12, 8))\n",
    "    sns.heatmap(retention, annot=True, fmt=\".1f\", cmap=\"Purples\")\n",
    "    plt.title(f'Retention Heatmap ({start_date} to {end_date})')\n",
    "    plt.xlabel('Days Since Registration')\n",
    "    plt.ylabel('Registration Date')\n",
    "    plt.show()\n",
    "    \n",
    "    return retention\n",
    "\n",
    "start_date='2020-08-24'\n",
    "end_date='2020-08-31'\n",
    "retention_days=23\n",
    "calculate_retention(start_date, end_date, reg, auth, retention_days)\n"
   ]
  },
  {
   "cell_type": "markdown",
   "metadata": {},
   "source": [
    "Таким образом, данной функцией можно пользоваться для расчета Retention Rate в любых временных рамках (retention_days), меняя количество когорт при необходимости (параметры start_date и end_date). Расчет ведётся для когорт пользователей - пользователи, зарегистрировавшиеся в один день являются одной когортой."
   ]
  },
  {
   "cell_type": "markdown",
   "metadata": {},
   "source": [
    "###### --------------------------------------------------------------------------------------------------------------------------------"
   ]
  },
  {
   "cell_type": "markdown",
   "metadata": {},
   "source": [
    "# 2. Помимо этого, в компании провели A/B тестирование наборов акционных предложений. На основе имеющихся данных определите, какой набор можно считать лучшим и на основе каких метрик стоит принять правильное решение."
   ]
  },
  {
   "cell_type": "markdown",
   "metadata": {},
   "source": [
    "# Имеются результаты A/B теста, в котором двум группам пользователей предлагались различные наборы акционных предложений. Известно, что ARPU в тестовой группе выше на 5%, чем в контрольной. При этом в контрольной группе 1928 игроков из 202103 оказались платящими, а в тестовой – 1805 из 202667.\n",
    "\n",
    "Какой набор предложений можно считать лучшим? Какие метрики стоит проанализировать для принятия правильного решения и как?"
   ]
  },
  {
   "cell_type": "code",
   "execution_count": 65,
   "metadata": {},
   "outputs": [
    {
     "data": {
      "text/html": [
       "<div>\n",
       "<style scoped>\n",
       "    .dataframe tbody tr th:only-of-type {\n",
       "        vertical-align: middle;\n",
       "    }\n",
       "\n",
       "    .dataframe tbody tr th {\n",
       "        vertical-align: top;\n",
       "    }\n",
       "\n",
       "    .dataframe thead th {\n",
       "        text-align: right;\n",
       "    }\n",
       "</style>\n",
       "<table border=\"1\" class=\"dataframe\">\n",
       "  <thead>\n",
       "    <tr style=\"text-align: right;\">\n",
       "      <th></th>\n",
       "      <th>user_id</th>\n",
       "      <th>revenue</th>\n",
       "      <th>testgroup</th>\n",
       "    </tr>\n",
       "  </thead>\n",
       "  <tbody>\n",
       "    <tr>\n",
       "      <th>0</th>\n",
       "      <td>1</td>\n",
       "      <td>0</td>\n",
       "      <td>b</td>\n",
       "    </tr>\n",
       "    <tr>\n",
       "      <th>1</th>\n",
       "      <td>2</td>\n",
       "      <td>0</td>\n",
       "      <td>a</td>\n",
       "    </tr>\n",
       "    <tr>\n",
       "      <th>2</th>\n",
       "      <td>3</td>\n",
       "      <td>0</td>\n",
       "      <td>a</td>\n",
       "    </tr>\n",
       "    <tr>\n",
       "      <th>3</th>\n",
       "      <td>4</td>\n",
       "      <td>0</td>\n",
       "      <td>b</td>\n",
       "    </tr>\n",
       "    <tr>\n",
       "      <th>4</th>\n",
       "      <td>5</td>\n",
       "      <td>0</td>\n",
       "      <td>b</td>\n",
       "    </tr>\n",
       "  </tbody>\n",
       "</table>\n",
       "</div>"
      ],
      "text/plain": [
       "   user_id  revenue testgroup\n",
       "0        1        0         b\n",
       "1        2        0         a\n",
       "2        3        0         a\n",
       "3        4        0         b\n",
       "4        5        0         b"
      ]
     },
     "execution_count": 65,
     "metadata": {},
     "output_type": "execute_result"
    }
   ],
   "source": [
    "ab_df=pd.read_csv('Проект_1_Задание_2.csv', sep=';')\n",
    "ab_df.head(5)"
   ]
  },
  {
   "cell_type": "code",
   "execution_count": 66,
   "metadata": {},
   "outputs": [
    {
     "data": {
      "text/plain": [
       "(404770, 3)"
      ]
     },
     "execution_count": 66,
     "metadata": {},
     "output_type": "execute_result"
    }
   ],
   "source": [
    "ab_df.shape"
   ]
  },
  {
   "cell_type": "code",
   "execution_count": 67,
   "metadata": {},
   "outputs": [
    {
     "data": {
      "text/plain": [
       "404770"
      ]
     },
     "execution_count": 67,
     "metadata": {},
     "output_type": "execute_result"
    }
   ],
   "source": [
    "# Проверим, что у нас не повторяются чьи-то айди в данных.\n",
    "ab_df.user_id.nunique()"
   ]
  },
  {
   "cell_type": "code",
   "execution_count": 68,
   "metadata": {},
   "outputs": [
    {
     "name": "stdout",
     "output_type": "stream",
     "text": [
      "<class 'pandas.core.frame.DataFrame'>\n",
      "RangeIndex: 404770 entries, 0 to 404769\n",
      "Data columns (total 3 columns):\n",
      " #   Column     Non-Null Count   Dtype \n",
      "---  ------     --------------   ----- \n",
      " 0   user_id    404770 non-null  int64 \n",
      " 1   revenue    404770 non-null  int64 \n",
      " 2   testgroup  404770 non-null  object\n",
      "dtypes: int64(2), object(1)\n",
      "memory usage: 9.3+ MB\n"
     ]
    }
   ],
   "source": [
    "ab_df.info()"
   ]
  },
  {
   "cell_type": "code",
   "execution_count": 69,
   "metadata": {},
   "outputs": [
    {
     "data": {
      "text/plain": [
       "count    404770.000000\n",
       "mean         26.083435\n",
       "std         681.652928\n",
       "min           0.000000\n",
       "25%           0.000000\n",
       "50%           0.000000\n",
       "75%           0.000000\n",
       "max       37433.000000\n",
       "Name: revenue, dtype: float64"
      ]
     },
     "execution_count": 69,
     "metadata": {},
     "output_type": "execute_result"
    }
   ],
   "source": [
    "ab_df.revenue.describe()"
   ]
  },
  {
   "cell_type": "code",
   "execution_count": null,
   "metadata": {},
   "outputs": [],
   "source": []
  },
  {
   "cell_type": "code",
   "execution_count": 70,
   "metadata": {},
   "outputs": [
    {
     "data": {
      "text/plain": [
       "25.413719736965806"
      ]
     },
     "execution_count": 70,
     "metadata": {},
     "output_type": "execute_result"
    }
   ],
   "source": [
    "a=ab_df.query('testgroup==\"a\"')\n",
    "arpu_a=a.revenue.mean()\n",
    "arpu_a"
   ]
  },
  {
   "cell_type": "code",
   "execution_count": 71,
   "metadata": {},
   "outputs": [
    {
     "data": {
      "text/plain": [
       "26.75128659327863"
      ]
     },
     "execution_count": 71,
     "metadata": {},
     "output_type": "execute_result"
    }
   ],
   "source": [
    "b=ab_df.query('testgroup==\"b\"')\n",
    "arpu_b=b.revenue.mean()\n",
    "arpu_b"
   ]
  },
  {
   "cell_type": "code",
   "execution_count": 72,
   "metadata": {},
   "outputs": [
    {
     "data": {
      "text/plain": [
       "5.263168360069894"
      ]
     },
     "execution_count": 72,
     "metadata": {},
     "output_type": "execute_result"
    }
   ],
   "source": [
    "((arpu_b-arpu_a)/arpu_a)*100\n",
    "#Проверяем, что ARPU тестовой группы выше на 5%, чем у контрольной. Делаем вывод, что группа \"a\" - контрольная, а \"b\" - тестовая. (мало ли)"
   ]
  },
  {
   "cell_type": "code",
   "execution_count": 73,
   "metadata": {},
   "outputs": [
    {
     "data": {
      "text/plain": [
       "count    202103.000000\n",
       "mean         25.413720\n",
       "std         920.768137\n",
       "min           0.000000\n",
       "25%           0.000000\n",
       "50%           0.000000\n",
       "75%           0.000000\n",
       "max       37433.000000\n",
       "Name: revenue, dtype: float64"
      ]
     },
     "execution_count": 73,
     "metadata": {},
     "output_type": "execute_result"
    }
   ],
   "source": [
    "a.revenue.describe()"
   ]
  },
  {
   "cell_type": "code",
   "execution_count": 74,
   "metadata": {},
   "outputs": [
    {
     "data": {
      "text/plain": [
       "count    202667.000000\n",
       "mean         26.751287\n",
       "std         287.324162\n",
       "min           0.000000\n",
       "25%           0.000000\n",
       "50%           0.000000\n",
       "75%           0.000000\n",
       "max        4000.000000\n",
       "Name: revenue, dtype: float64"
      ]
     },
     "execution_count": 74,
     "metadata": {},
     "output_type": "execute_result"
    }
   ],
   "source": [
    "b.revenue.describe()"
   ]
  },
  {
   "cell_type": "code",
   "execution_count": 75,
   "metadata": {},
   "outputs": [],
   "source": [
    "# Сразу в глаза бросается большая разница стандартных отклонений в группах, а также наличие выброса в контрольной группе :\n",
    "# максимальная покупка - 37433, в то время как у тестовой лишь 4000,\n",
    "# это может говорить о постоянном/постоянных покупателях попавших в контрольную группу, что немного искажает реальное положение вещей."
   ]
  },
  {
   "cell_type": "code",
   "execution_count": 76,
   "metadata": {},
   "outputs": [
    {
     "data": {
      "text/plain": [
       "count    202102.000000\n",
       "mean         25.228627\n",
       "std         917.002847\n",
       "min           0.000000\n",
       "25%           0.000000\n",
       "50%           0.000000\n",
       "75%           0.000000\n",
       "max       37407.000000\n",
       "Name: revenue, dtype: float64"
      ]
     },
     "execution_count": 76,
     "metadata": {},
     "output_type": "execute_result"
    }
   ],
   "source": [
    "# Попробуем выкинуть этого покупателя из контрольной группы и посмотрим, что получится\n",
    "user_id_to_exclude=a.query('revenue == \"37433\"')['user_id'].values[0]\n",
    "a_new=a.query('user_id != @user_id_to_exclude')\n",
    "a_new.revenue.describe() #и снова максимальное значение – это выброс. Проверим данные внимательнее"
   ]
  },
  {
   "cell_type": "code",
   "execution_count": 77,
   "metadata": {},
   "outputs": [
    {
     "data": {
      "text/html": [
       "<div>\n",
       "<style scoped>\n",
       "    .dataframe tbody tr th:only-of-type {\n",
       "        vertical-align: middle;\n",
       "    }\n",
       "\n",
       "    .dataframe tbody tr th {\n",
       "        vertical-align: top;\n",
       "    }\n",
       "\n",
       "    .dataframe thead th {\n",
       "        text-align: right;\n",
       "    }\n",
       "</style>\n",
       "<table border=\"1\" class=\"dataframe\">\n",
       "  <thead>\n",
       "    <tr style=\"text-align: right;\">\n",
       "      <th></th>\n",
       "      <th>user_id</th>\n",
       "      <th>revenue</th>\n",
       "    </tr>\n",
       "  </thead>\n",
       "  <tbody>\n",
       "    <tr>\n",
       "      <th>count</th>\n",
       "      <td>1805.000000</td>\n",
       "      <td>1805.000000</td>\n",
       "    </tr>\n",
       "    <tr>\n",
       "      <th>mean</th>\n",
       "      <td>205834.548476</td>\n",
       "      <td>3003.658172</td>\n",
       "    </tr>\n",
       "    <tr>\n",
       "      <th>std</th>\n",
       "      <td>116400.045485</td>\n",
       "      <td>572.619709</td>\n",
       "    </tr>\n",
       "    <tr>\n",
       "      <th>min</th>\n",
       "      <td>161.000000</td>\n",
       "      <td>2000.000000</td>\n",
       "    </tr>\n",
       "    <tr>\n",
       "      <th>25%</th>\n",
       "      <td>106815.000000</td>\n",
       "      <td>2513.000000</td>\n",
       "    </tr>\n",
       "    <tr>\n",
       "      <th>50%</th>\n",
       "      <td>206651.000000</td>\n",
       "      <td>3022.000000</td>\n",
       "    </tr>\n",
       "    <tr>\n",
       "      <th>75%</th>\n",
       "      <td>304907.000000</td>\n",
       "      <td>3478.000000</td>\n",
       "    </tr>\n",
       "    <tr>\n",
       "      <th>max</th>\n",
       "      <td>404526.000000</td>\n",
       "      <td>4000.000000</td>\n",
       "    </tr>\n",
       "  </tbody>\n",
       "</table>\n",
       "</div>"
      ],
      "text/plain": [
       "             user_id      revenue\n",
       "count    1805.000000  1805.000000\n",
       "mean   205834.548476  3003.658172\n",
       "std    116400.045485   572.619709\n",
       "min       161.000000  2000.000000\n",
       "25%    106815.000000  2513.000000\n",
       "50%    206651.000000  3022.000000\n",
       "75%    304907.000000  3478.000000\n",
       "max    404526.000000  4000.000000"
      ]
     },
     "execution_count": 77,
     "metadata": {},
     "output_type": "execute_result"
    }
   ],
   "source": [
    "# Отберём только тех пользователей, которые сколько-то заплатили, чтобы посмотреть на данные поближе\n",
    "import matplotlib.pyplot as plt\n",
    "b_plat=b.query('revenue != \"0\"') \n",
    "b_plat.describe()"
   ]
  },
  {
   "cell_type": "code",
   "execution_count": 78,
   "metadata": {},
   "outputs": [
    {
     "data": {
      "text/plain": [
       "Text(0.5, 1.0, 'Распределение выручки от пользователей среди тестовой группы')"
      ]
     },
     "execution_count": 78,
     "metadata": {},
     "output_type": "execute_result"
    },
    {
     "data": {
      "image/png": "[encoded data removed]",
      "text/plain": [
       "<Figure size 720x432 with 1 Axes>"
      ]
     },
     "metadata": {
      "needs_background": "light"
     },
     "output_type": "display_data"
    }
   ],
   "source": [
    "plt.figure(figsize=(10, 6))\n",
    "b_plat.revenue.hist(color='orange', alpha=0.7, bins=30)\n",
    "plt.title('Распределение выручки от пользователей среди тестовой группы')"
   ]
  },
  {
   "cell_type": "code",
   "execution_count": 79,
   "metadata": {},
   "outputs": [
    {
     "data": {
      "text/html": [
       "<div>\n",
       "<style scoped>\n",
       "    .dataframe tbody tr th:only-of-type {\n",
       "        vertical-align: middle;\n",
       "    }\n",
       "\n",
       "    .dataframe tbody tr th {\n",
       "        vertical-align: top;\n",
       "    }\n",
       "\n",
       "    .dataframe thead th {\n",
       "        text-align: right;\n",
       "    }\n",
       "</style>\n",
       "<table border=\"1\" class=\"dataframe\">\n",
       "  <thead>\n",
       "    <tr style=\"text-align: right;\">\n",
       "      <th></th>\n",
       "      <th>user_id</th>\n",
       "      <th>revenue</th>\n",
       "    </tr>\n",
       "  </thead>\n",
       "  <tbody>\n",
       "    <tr>\n",
       "      <th>count</th>\n",
       "      <td>1928.000000</td>\n",
       "      <td>1928.000000</td>\n",
       "    </tr>\n",
       "    <tr>\n",
       "      <th>mean</th>\n",
       "      <td>200152.677905</td>\n",
       "      <td>2663.998444</td>\n",
       "    </tr>\n",
       "    <tr>\n",
       "      <th>std</th>\n",
       "      <td>116596.504905</td>\n",
       "      <td>9049.039763</td>\n",
       "    </tr>\n",
       "    <tr>\n",
       "      <th>min</th>\n",
       "      <td>73.000000</td>\n",
       "      <td>200.000000</td>\n",
       "    </tr>\n",
       "    <tr>\n",
       "      <th>25%</th>\n",
       "      <td>99323.000000</td>\n",
       "      <td>257.000000</td>\n",
       "    </tr>\n",
       "    <tr>\n",
       "      <th>50%</th>\n",
       "      <td>199854.500000</td>\n",
       "      <td>311.000000</td>\n",
       "    </tr>\n",
       "    <tr>\n",
       "      <th>75%</th>\n",
       "      <td>299664.250000</td>\n",
       "      <td>361.000000</td>\n",
       "    </tr>\n",
       "    <tr>\n",
       "      <th>max</th>\n",
       "      <td>404768.000000</td>\n",
       "      <td>37433.000000</td>\n",
       "    </tr>\n",
       "  </tbody>\n",
       "</table>\n",
       "</div>"
      ],
      "text/plain": [
       "             user_id       revenue\n",
       "count    1928.000000   1928.000000\n",
       "mean   200152.677905   2663.998444\n",
       "std    116596.504905   9049.039763\n",
       "min        73.000000    200.000000\n",
       "25%     99323.000000    257.000000\n",
       "50%    199854.500000    311.000000\n",
       "75%    299664.250000    361.000000\n",
       "max    404768.000000  37433.000000"
      ]
     },
     "execution_count": 79,
     "metadata": {},
     "output_type": "execute_result"
    }
   ],
   "source": [
    "a_plat=a.query('revenue != \"0\"')\n",
    "a_plat.describe()"
   ]
  },
  {
   "cell_type": "code",
   "execution_count": 80,
   "metadata": {},
   "outputs": [
    {
     "data": {
      "text/plain": [
       "Text(0.5, 1.0, 'Распределение выручки от пользователей среди контрольной группы')"
      ]
     },
     "execution_count": 80,
     "metadata": {},
     "output_type": "execute_result"
    },
    {
     "data": {
      "image/png": "[encoded data removed]",
      "text/plain": [
       "<Figure size 720x432 with 1 Axes>"
      ]
     },
     "metadata": {
      "needs_background": "light"
     },
     "output_type": "display_data"
    }
   ],
   "source": [
    "plt.figure(figsize=(10, 6))\n",
    "a_plat.revenue.hist(color='green', alpha=0.5, bins=30)\n",
    "plt.title('Распределение выручки от пользователей среди контрольной группы')"
   ]
  },
  {
   "cell_type": "code",
   "execution_count": 81,
   "metadata": {},
   "outputs": [
    {
     "data": {
      "text/plain": [
       "<matplotlib.legend.Legend at 0x7f52883ff2b0>"
      ]
     },
     "execution_count": 81,
     "metadata": {},
     "output_type": "execute_result"
    },
    {
     "data": {
      "image/png": "[encoded data removed]",
      "text/plain": [
       "<Figure size 1440x432 with 1 Axes>"
      ]
     },
     "metadata": {
      "needs_background": "light"
     },
     "output_type": "display_data"
    }
   ],
   "source": [
    "plt.figure(figsize=(20, 6))\n",
    "plt.hist(a_plat['revenue'], bins=30, alpha=0.5, color='green', label='Контрольная группа')\n",
    "plt.hist(b_plat['revenue'], bins=30, alpha=0.7, color='orange', label='Тестовая группа')\n",
    "plt.title('График распределения выручки от двух групп')\n",
    "plt.legend(loc='upper right')"
   ]
  },
  {
   "cell_type": "code",
   "execution_count": 82,
   "metadata": {},
   "outputs": [
    {
     "data": {
      "text/plain": [
       "Text(0.5, 1.0, 'Ящик с усами. Контрольная группа')"
      ]
     },
     "execution_count": 82,
     "metadata": {},
     "output_type": "execute_result"
    },
    {
     "data": {
      "image/png": "[encoded data removed]",
      "text/plain": [
       "<Figure size 1440x432 with 1 Axes>"
      ]
     },
     "metadata": {
      "needs_background": "light"
     },
     "output_type": "display_data"
    }
   ],
   "source": [
    "import seaborn as sns\n",
    "import matplotlib.pyplot as plt\n",
    "plt.figure(figsize=(20, 6))\n",
    "sns.boxplot(x=a_plat['revenue'], color='green')\n",
    "plt.title('Ящик с усами. Контрольная группа')\n",
    "# Получили очень странную картину. Технически, то, что мы видим справа – это выбросы."
   ]
  },
  {
   "cell_type": "code",
   "execution_count": 83,
   "metadata": {},
   "outputs": [
    {
     "data": {
      "text/plain": [
       "Text(0.5, 1.0, 'Ящик с усами. Тестовая группа')"
      ]
     },
     "execution_count": 83,
     "metadata": {},
     "output_type": "execute_result"
    },
    {
     "data": {
      "image/png": "[encoded data removed]",
      "text/plain": [
       "<Figure size 1440x432 with 1 Axes>"
      ]
     },
     "metadata": {
      "needs_background": "light"
     },
     "output_type": "display_data"
    }
   ],
   "source": [
    "plt.figure(figsize=(20, 6))\n",
    "sns.boxplot(x=b_plat['revenue'], color='orange')\n",
    "plt.title('Ящик с усами. Тестовая группа')"
   ]
  },
  {
   "cell_type": "code",
   "execution_count": 84,
   "metadata": {},
   "outputs": [
    {
     "data": {
      "text/plain": [
       "count    1805.000000\n",
       "mean      302.458172\n",
       "std        57.914246\n",
       "min       200.000000\n",
       "25%       254.000000\n",
       "50%       305.000000\n",
       "75%       352.000000\n",
       "max       400.000000\n",
       "Name: revenue, dtype: float64"
      ]
     },
     "execution_count": 84,
     "metadata": {},
     "output_type": "execute_result"
    }
   ],
   "source": [
    "# Убираем выбросы. В наших данных о контрольной группе имеется 123 пользователя, выручка от которых больше 37 000, но меньше 38 000.\n",
    "# От остальных же выручка меньше 400.\n",
    "# Мне кажется это очень странным, и тут может быть большое пространство для интерпретаци, вплоть до обычных ошибок в данных.\n",
    "# Но я буду считать, что её нет. \n",
    "a_plat_poor=a_plat.query('revenue < 37000')\n",
    "a_plat_poor.revenue.describe()\n",
    "# В итоге у нас остается 1805 пользователей, а выручка от них всего 545,937.\n",
    "# До удаления 123 пользователей из списка выручка от контрольной группы составляла 5,136,189. Показатели ОЧЕНЬ сильно поменялись. \n",
    "# Просто так удалить 123 пользователей нельзя.\n",
    "# Выручка от тестовой группы тем временем составляет 5,421,603."
   ]
  },
  {
   "cell_type": "code",
   "execution_count": 85,
   "metadata": {},
   "outputs": [
    {
     "data": {
      "text/plain": [
       "Text(0.5, 1.0, 'Ящик с усами. Контрольная группа – платящие \"немного\"')"
      ]
     },
     "execution_count": 85,
     "metadata": {},
     "output_type": "execute_result"
    },
    {
     "data": {
      "image/png": "[encoded data removed]",
      "text/plain": [
       "<Figure size 1440x432 with 1 Axes>"
      ]
     },
     "metadata": {
      "needs_background": "light"
     },
     "output_type": "display_data"
    }
   ],
   "source": [
    "plt.figure(figsize=(20, 6))\n",
    "sns.boxplot(x=a_plat_poor['revenue'], color='green')\n",
    "plt.title('Ящик с усами. Контрольная группа – платящие \"немного\"')"
   ]
  },
  {
   "cell_type": "code",
   "execution_count": 86,
   "metadata": {},
   "outputs": [
    {
     "data": {
      "text/plain": [
       "count      123.000000\n",
       "mean     37319.121951\n",
       "std         25.442183\n",
       "min      37293.000000\n",
       "25%      37301.000000\n",
       "50%      37311.000000\n",
       "75%      37329.000000\n",
       "max      37433.000000\n",
       "Name: revenue, dtype: float64"
      ]
     },
     "execution_count": 86,
     "metadata": {},
     "output_type": "execute_result"
    }
   ],
   "source": [
    "# Теперь посмотрим на часть пользователей из контрольной группы, которых мы посчитали за выбросы.\n",
    "# Рассмотрим их как отдельную группу под названием rich.\n",
    "\n",
    "a_rich=a_plat.query('revenue>37000')\n",
    "a_rich.revenue.describe()"
   ]
  },
  {
   "cell_type": "code",
   "execution_count": 87,
   "metadata": {},
   "outputs": [
    {
     "data": {
      "text/plain": [
       "Text(0.5, 1.0, 'Ящик с усами. Контрольная группа – платящие \"много\"')"
      ]
     },
     "execution_count": 87,
     "metadata": {},
     "output_type": "execute_result"
    },
    {
     "data": {
      "image/png": "[encoded data removed]",
      "text/plain": [
       "<Figure size 1440x432 with 1 Axes>"
      ]
     },
     "metadata": {
      "needs_background": "light"
     },
     "output_type": "display_data"
    }
   ],
   "source": [
    "plt.figure(figsize=(20, 6))\n",
    "sns.boxplot(x=a_rich['revenue'], color='green')\n",
    "plt.title('Ящик с усами. Контрольная группа – платящие \"много\"')\n",
    "# Здесь тоже есть некоторые выбросы, однако они уже не так критичны, \n",
    "# поскольку все платежи из этой группы уместились в промежутке от 37,293 до 37,433 у.е.  "
   ]
  },
  {
   "cell_type": "markdown",
   "metadata": {},
   "source": [
    "###### ------------------------------------------------------------------------------------------------------------------------------------------------------------------------------------------------------"
   ]
  },
  {
   "cell_type": "markdown",
   "metadata": {},
   "source": [
    "## Давайте рассчитаем самые базовые метрики и ещё раз посмотрим на цифры:"
   ]
  },
  {
   "cell_type": "markdown",
   "metadata": {},
   "source": [
    "##### ARPU"
   ]
  },
  {
   "cell_type": "code",
   "execution_count": 88,
   "metadata": {},
   "outputs": [],
   "source": [
    "# arpu_a=a.revenue.mean()\n",
    "# arpu_b=b.revenue.mean()"
   ]
  },
  {
   "cell_type": "markdown",
   "metadata": {},
   "source": [
    "Контрольная группа (a): ARPU = 25,41\n",
    "Тестовая группа (b): ARPU = 26.75"
   ]
  },
  {
   "cell_type": "markdown",
   "metadata": {},
   "source": [
    "###### ARPPU"
   ]
  },
  {
   "cell_type": "code",
   "execution_count": 89,
   "metadata": {},
   "outputs": [],
   "source": [
    "# arppu_a=a_plat.revenue.mean()\n",
    "# arppu_b=b_plat.revenue.mean()"
   ]
  },
  {
   "cell_type": "markdown",
   "metadata": {},
   "source": [
    "Контрольная группа(a): ARPPU = 2664 Тестовая группа (b): ARPPU = 3003.66"
   ]
  },
  {
   "cell_type": "markdown",
   "metadata": {},
   "source": [
    "##### Conversion rate"
   ]
  },
  {
   "cell_type": "code",
   "execution_count": 90,
   "metadata": {},
   "outputs": [],
   "source": [
    "# conv_rate_a=((a.query('revenue != \"0\"').shape[0]/a.shape[0])*100)\n",
    "# conv_rate_b=((b.query('revenue != \"0\"').shape[0]/b.shape[0])*100)"
   ]
  },
  {
   "cell_type": "markdown",
   "metadata": {},
   "source": [
    "Контрольная группа (a): Conversion rate = 0.954%\n",
    "Тестовая группа (b): Conversion rate = 0.891%"
   ]
  },
  {
   "cell_type": "markdown",
   "metadata": {},
   "source": [
    "##### Общая выручка"
   ]
  },
  {
   "cell_type": "code",
   "execution_count": 91,
   "metadata": {},
   "outputs": [],
   "source": [
    "# rev_a=a.revenue.sum()\n",
    "# rev_b=b.revenue.sum()"
   ]
  },
  {
   "cell_type": "markdown",
   "metadata": {},
   "source": [
    "Контрольная группа (a): total_revenue = 5,136,189\n",
    "Тестовая группа (b): total_revenue = 5,421,603"
   ]
  },
  {
   "cell_type": "markdown",
   "metadata": {},
   "source": [
    "###### ------------------------------------------------------------------------------------------------------------------------------------------------------------------------------------------------------"
   ]
  },
  {
   "cell_type": "markdown",
   "metadata": {},
   "source": [
    "##### Проведём тест хи-квадрат, чтобы установить, статистически ли значимы различия в наших конверсиях. Уровень значимости: 5%"
   ]
  },
  {
   "cell_type": "code",
   "execution_count": 92,
   "metadata": {},
   "outputs": [
    {
     "name": "stdout",
     "output_type": "stream",
     "text": [
      "p-value: 0.03647561892312613\n"
     ]
    }
   ],
   "source": [
    "import scipy.stats as stats\n",
    "\n",
    "\n",
    "control_paid = 1928\n",
    "control_total = 202103\n",
    "test_paid = 1805\n",
    "test_total = 202667\n",
    "\n",
    "\n",
    "data = [[control_paid, control_total - control_paid],\n",
    "        [test_paid, test_total - test_paid]]\n",
    "\n",
    "# Хи-квадрат тест\n",
    "chi2, p, dof, expected = stats.chi2_contingency(data)\n",
    "\n",
    "print(f\"p-value: {p}\")\n",
    "\n"
   ]
  },
  {
   "cell_type": "markdown",
   "metadata": {},
   "source": [
    "Вывод: Различия стат.значимы ( p < 0.05 )"
   ]
  },
  {
   "cell_type": "markdown",
   "metadata": {},
   "source": [
    "Несмотря на то, что данные распределены ненормально, у нас очень большие выборки, поэтому воспользуемся t-тестом, чтобы проверить стат.значимость различий в ключевых метриках."
   ]
  },
  {
   "cell_type": "markdown",
   "metadata": {},
   "source": [
    "Нулевая гипотеза (H0): Нет значимых различий между ARPU в тестовой и контрольной группе (различия вызваны случайными факторами)."
   ]
  },
  {
   "cell_type": "code",
   "execution_count": 93,
   "metadata": {},
   "outputs": [
    {
     "name": "stdout",
     "output_type": "stream",
     "text": [
      "T-статистика: -0.6242026493616787, P-значение: 0.532494858971837\n"
     ]
    }
   ],
   "source": [
    "import numpy as np\n",
    "from scipy import stats\n",
    "\n",
    "t_statistic, p_value = stats.ttest_ind(a.revenue, b.revenue)\n",
    "\n",
    "print(f\"T-статистика: {t_statistic}, P-значение: {p_value}\")"
   ]
  },
  {
   "cell_type": "markdown",
   "metadata": {},
   "source": [
    "Вывод: t-тест не выявил стат.значимых различий между значениями ARPU у контрольной и тестовой групп"
   ]
  },
  {
   "cell_type": "markdown",
   "metadata": {},
   "source": [
    "Нулевая гипотеза (H0): Нет значимых различий между ARPPU в тестовой и контрольной группе (различия вызваны случайными факторами)."
   ]
  },
  {
   "cell_type": "code",
   "execution_count": 94,
   "metadata": {},
   "outputs": [
    {
     "name": "stdout",
     "output_type": "stream",
     "text": [
      "T-статистика: -1.5917100176862002, P-значение: 0.11153459157259504\n"
     ]
    }
   ],
   "source": [
    "t_statistic, p_value = stats.ttest_ind(a_plat.revenue, b_plat.revenue)\n",
    "\n",
    "print(f\"T-статистика: {t_statistic}, P-значение: {p_value}\")"
   ]
  },
  {
   "cell_type": "markdown",
   "metadata": {},
   "source": [
    "Вывод: t-тест не выявил стат.значимых различий между значениями ARPPU у контрольной и тестовой групп"
   ]
  },
  {
   "cell_type": "markdown",
   "metadata": {},
   "source": [
    "##### ------------------------------------------------------------------------------------------------------------------------------------------------------------------------------------------------------"
   ]
  },
  {
   "cell_type": "markdown",
   "metadata": {},
   "source": [
    "Меня интересует вопрос аномальных пользователей в контрольной группе, попробуем понять, есть ли у них что-то общее"
   ]
  },
  {
   "cell_type": "code",
   "execution_count": 95,
   "metadata": {},
   "outputs": [],
   "source": [
    "ab_df=ab_df.rename(columns={'user_id':'uid'})"
   ]
  },
  {
   "cell_type": "code",
   "execution_count": 96,
   "metadata": {},
   "outputs": [
    {
     "data": {
      "text/html": [
       "<div>\n",
       "<style scoped>\n",
       "    .dataframe tbody tr th:only-of-type {\n",
       "        vertical-align: middle;\n",
       "    }\n",
       "\n",
       "    .dataframe tbody tr th {\n",
       "        vertical-align: top;\n",
       "    }\n",
       "\n",
       "    .dataframe thead th {\n",
       "        text-align: right;\n",
       "    }\n",
       "</style>\n",
       "<table border=\"1\" class=\"dataframe\">\n",
       "  <thead>\n",
       "    <tr style=\"text-align: right;\">\n",
       "      <th></th>\n",
       "      <th>uid</th>\n",
       "      <th>reg_date</th>\n",
       "    </tr>\n",
       "  </thead>\n",
       "  <tbody>\n",
       "    <tr>\n",
       "      <th>0</th>\n",
       "      <td>1</td>\n",
       "      <td>1998-11-18</td>\n",
       "    </tr>\n",
       "    <tr>\n",
       "      <th>1</th>\n",
       "      <td>2</td>\n",
       "      <td>1999-07-22</td>\n",
       "    </tr>\n",
       "    <tr>\n",
       "      <th>2</th>\n",
       "      <td>3</td>\n",
       "      <td>2000-01-13</td>\n",
       "    </tr>\n",
       "    <tr>\n",
       "      <th>3</th>\n",
       "      <td>4</td>\n",
       "      <td>2000-05-28</td>\n",
       "    </tr>\n",
       "    <tr>\n",
       "      <th>4</th>\n",
       "      <td>5</td>\n",
       "      <td>2000-09-16</td>\n",
       "    </tr>\n",
       "    <tr>\n",
       "      <th>...</th>\n",
       "      <td>...</td>\n",
       "      <td>...</td>\n",
       "    </tr>\n",
       "    <tr>\n",
       "      <th>999995</th>\n",
       "      <td>1110618</td>\n",
       "      <td>2020-09-23</td>\n",
       "    </tr>\n",
       "    <tr>\n",
       "      <th>999996</th>\n",
       "      <td>1110619</td>\n",
       "      <td>2020-09-23</td>\n",
       "    </tr>\n",
       "    <tr>\n",
       "      <th>999997</th>\n",
       "      <td>1110620</td>\n",
       "      <td>2020-09-23</td>\n",
       "    </tr>\n",
       "    <tr>\n",
       "      <th>999998</th>\n",
       "      <td>1110621</td>\n",
       "      <td>2020-09-23</td>\n",
       "    </tr>\n",
       "    <tr>\n",
       "      <th>999999</th>\n",
       "      <td>1110622</td>\n",
       "      <td>2020-09-23</td>\n",
       "    </tr>\n",
       "  </tbody>\n",
       "</table>\n",
       "<p>1000000 rows × 2 columns</p>\n",
       "</div>"
      ],
      "text/plain": [
       "            uid   reg_date\n",
       "0             1 1998-11-18\n",
       "1             2 1999-07-22\n",
       "2             3 2000-01-13\n",
       "3             4 2000-05-28\n",
       "4             5 2000-09-16\n",
       "...         ...        ...\n",
       "999995  1110618 2020-09-23\n",
       "999996  1110619 2020-09-23\n",
       "999997  1110620 2020-09-23\n",
       "999998  1110621 2020-09-23\n",
       "999999  1110622 2020-09-23\n",
       "\n",
       "[1000000 rows x 2 columns]"
      ]
     },
     "execution_count": 96,
     "metadata": {},
     "output_type": "execute_result"
    }
   ],
   "source": [
    "reg_date_df=reg[['uid', 'reg_date']]\n",
    "reg_date_df"
   ]
  },
  {
   "cell_type": "code",
   "execution_count": 97,
   "metadata": {},
   "outputs": [],
   "source": [
    "ab_reg=ab_df.merge(reg_date_df, on='uid')"
   ]
  },
  {
   "cell_type": "code",
   "execution_count": 98,
   "metadata": {},
   "outputs": [
    {
     "data": {
      "text/html": [
       "<div>\n",
       "<style scoped>\n",
       "    .dataframe tbody tr th:only-of-type {\n",
       "        vertical-align: middle;\n",
       "    }\n",
       "\n",
       "    .dataframe tbody tr th {\n",
       "        vertical-align: top;\n",
       "    }\n",
       "\n",
       "    .dataframe thead th {\n",
       "        text-align: right;\n",
       "    }\n",
       "</style>\n",
       "<table border=\"1\" class=\"dataframe\">\n",
       "  <thead>\n",
       "    <tr style=\"text-align: right;\">\n",
       "      <th></th>\n",
       "      <th>uid</th>\n",
       "      <th>revenue</th>\n",
       "      <th>testgroup</th>\n",
       "      <th>reg_date</th>\n",
       "    </tr>\n",
       "  </thead>\n",
       "  <tbody>\n",
       "    <tr>\n",
       "      <th>376</th>\n",
       "      <td>417</td>\n",
       "      <td>37324</td>\n",
       "      <td>a</td>\n",
       "      <td>2007-08-11</td>\n",
       "    </tr>\n",
       "    <tr>\n",
       "      <th>4026</th>\n",
       "      <td>4429</td>\n",
       "      <td>37304</td>\n",
       "      <td>a</td>\n",
       "      <td>2011-07-20</td>\n",
       "    </tr>\n",
       "    <tr>\n",
       "      <th>5231</th>\n",
       "      <td>5778</td>\n",
       "      <td>37315</td>\n",
       "      <td>a</td>\n",
       "      <td>2011-12-26</td>\n",
       "    </tr>\n",
       "    <tr>\n",
       "      <th>7304</th>\n",
       "      <td>8066</td>\n",
       "      <td>37307</td>\n",
       "      <td>a</td>\n",
       "      <td>2012-07-16</td>\n",
       "    </tr>\n",
       "    <tr>\n",
       "      <th>7908</th>\n",
       "      <td>8744</td>\n",
       "      <td>37334</td>\n",
       "      <td>a</td>\n",
       "      <td>2012-09-02</td>\n",
       "    </tr>\n",
       "    <tr>\n",
       "      <th>...</th>\n",
       "      <td>...</td>\n",
       "      <td>...</td>\n",
       "      <td>...</td>\n",
       "      <td>...</td>\n",
       "    </tr>\n",
       "    <tr>\n",
       "      <th>324715</th>\n",
       "      <td>360697</td>\n",
       "      <td>37347</td>\n",
       "      <td>a</td>\n",
       "      <td>2018-11-09</td>\n",
       "    </tr>\n",
       "    <tr>\n",
       "      <th>340962</th>\n",
       "      <td>378669</td>\n",
       "      <td>37297</td>\n",
       "      <td>a</td>\n",
       "      <td>2018-12-09</td>\n",
       "    </tr>\n",
       "    <tr>\n",
       "      <th>350577</th>\n",
       "      <td>389342</td>\n",
       "      <td>37298</td>\n",
       "      <td>a</td>\n",
       "      <td>2018-12-26</td>\n",
       "    </tr>\n",
       "    <tr>\n",
       "      <th>355310</th>\n",
       "      <td>394581</td>\n",
       "      <td>37302</td>\n",
       "      <td>a</td>\n",
       "      <td>2019-01-03</td>\n",
       "    </tr>\n",
       "    <tr>\n",
       "      <th>359586</th>\n",
       "      <td>399295</td>\n",
       "      <td>37321</td>\n",
       "      <td>a</td>\n",
       "      <td>2019-01-10</td>\n",
       "    </tr>\n",
       "  </tbody>\n",
       "</table>\n",
       "<p>117 rows × 4 columns</p>\n",
       "</div>"
      ],
      "text/plain": [
       "           uid  revenue testgroup   reg_date\n",
       "376        417    37324         a 2007-08-11\n",
       "4026      4429    37304         a 2011-07-20\n",
       "5231      5778    37315         a 2011-12-26\n",
       "7304      8066    37307         a 2012-07-16\n",
       "7908      8744    37334         a 2012-09-02\n",
       "...        ...      ...       ...        ...\n",
       "324715  360697    37347         a 2018-11-09\n",
       "340962  378669    37297         a 2018-12-09\n",
       "350577  389342    37298         a 2018-12-26\n",
       "355310  394581    37302         a 2019-01-03\n",
       "359586  399295    37321         a 2019-01-10\n",
       "\n",
       "[117 rows x 4 columns]"
      ]
     },
     "execution_count": 98,
     "metadata": {},
     "output_type": "execute_result"
    }
   ],
   "source": [
    "a_reg=ab_reg.query('testgroup==\"a\"')\n",
    "a_reg_rich=a_reg.query('revenue > 37000')\n",
    "a_reg_rich"
   ]
  },
  {
   "cell_type": "code",
   "execution_count": 99,
   "metadata": {},
   "outputs": [
    {
     "data": {
      "text/plain": [
       "<matplotlib.axes._subplots.AxesSubplot at 0x7f52893fdd68>"
      ]
     },
     "execution_count": 99,
     "metadata": {},
     "output_type": "execute_result"
    },
    {
     "data": {
      "image/png": "[encoded data removed]",
      "text/plain": [
       "<Figure size 432x288 with 1 Axes>"
      ]
     },
     "metadata": {
      "needs_background": "light"
     },
     "output_type": "display_data"
    }
   ],
   "source": [
    "a_reg_rich.reg_date.hist(color='red', alpha=0.5, bins=30)"
   ]
  },
  {
   "cell_type": "code",
   "execution_count": 100,
   "metadata": {},
   "outputs": [
    {
     "data": {
      "text/html": [
       "<div>\n",
       "<style scoped>\n",
       "    .dataframe tbody tr th:only-of-type {\n",
       "        vertical-align: middle;\n",
       "    }\n",
       "\n",
       "    .dataframe tbody tr th {\n",
       "        vertical-align: top;\n",
       "    }\n",
       "\n",
       "    .dataframe thead th {\n",
       "        text-align: right;\n",
       "    }\n",
       "</style>\n",
       "<table border=\"1\" class=\"dataframe\">\n",
       "  <thead>\n",
       "    <tr style=\"text-align: right;\">\n",
       "      <th></th>\n",
       "      <th>uid</th>\n",
       "      <th>revenue</th>\n",
       "      <th>testgroup</th>\n",
       "      <th>reg_date</th>\n",
       "    </tr>\n",
       "  </thead>\n",
       "  <tbody>\n",
       "    <tr>\n",
       "      <th>1</th>\n",
       "      <td>2</td>\n",
       "      <td>0</td>\n",
       "      <td>a</td>\n",
       "      <td>1999-07-22</td>\n",
       "    </tr>\n",
       "    <tr>\n",
       "      <th>2</th>\n",
       "      <td>3</td>\n",
       "      <td>0</td>\n",
       "      <td>a</td>\n",
       "      <td>2000-01-13</td>\n",
       "    </tr>\n",
       "    <tr>\n",
       "      <th>9</th>\n",
       "      <td>10</td>\n",
       "      <td>0</td>\n",
       "      <td>a</td>\n",
       "      <td>2001-09-20</td>\n",
       "    </tr>\n",
       "    <tr>\n",
       "      <th>10</th>\n",
       "      <td>11</td>\n",
       "      <td>0</td>\n",
       "      <td>a</td>\n",
       "      <td>2001-11-12</td>\n",
       "    </tr>\n",
       "    <tr>\n",
       "      <th>11</th>\n",
       "      <td>12</td>\n",
       "      <td>0</td>\n",
       "      <td>a</td>\n",
       "      <td>2001-12-30</td>\n",
       "    </tr>\n",
       "    <tr>\n",
       "      <th>...</th>\n",
       "      <td>...</td>\n",
       "      <td>...</td>\n",
       "      <td>...</td>\n",
       "      <td>...</td>\n",
       "    </tr>\n",
       "    <tr>\n",
       "      <th>364545</th>\n",
       "      <td>404761</td>\n",
       "      <td>0</td>\n",
       "      <td>a</td>\n",
       "      <td>2019-01-18</td>\n",
       "    </tr>\n",
       "    <tr>\n",
       "      <th>364547</th>\n",
       "      <td>404763</td>\n",
       "      <td>0</td>\n",
       "      <td>a</td>\n",
       "      <td>2019-01-18</td>\n",
       "    </tr>\n",
       "    <tr>\n",
       "      <th>364550</th>\n",
       "      <td>404766</td>\n",
       "      <td>0</td>\n",
       "      <td>a</td>\n",
       "      <td>2019-01-18</td>\n",
       "    </tr>\n",
       "    <tr>\n",
       "      <th>364552</th>\n",
       "      <td>404768</td>\n",
       "      <td>231</td>\n",
       "      <td>a</td>\n",
       "      <td>2019-01-18</td>\n",
       "    </tr>\n",
       "    <tr>\n",
       "      <th>364553</th>\n",
       "      <td>404769</td>\n",
       "      <td>0</td>\n",
       "      <td>a</td>\n",
       "      <td>2019-01-18</td>\n",
       "    </tr>\n",
       "  </tbody>\n",
       "</table>\n",
       "<p>181865 rows × 4 columns</p>\n",
       "</div>"
      ],
      "text/plain": [
       "           uid  revenue testgroup   reg_date\n",
       "1            2        0         a 1999-07-22\n",
       "2            3        0         a 2000-01-13\n",
       "9           10        0         a 2001-09-20\n",
       "10          11        0         a 2001-11-12\n",
       "11          12        0         a 2001-12-30\n",
       "...        ...      ...       ...        ...\n",
       "364545  404761        0         a 2019-01-18\n",
       "364547  404763        0         a 2019-01-18\n",
       "364550  404766        0         a 2019-01-18\n",
       "364552  404768      231         a 2019-01-18\n",
       "364553  404769        0         a 2019-01-18\n",
       "\n",
       "[181865 rows x 4 columns]"
      ]
     },
     "execution_count": 100,
     "metadata": {},
     "output_type": "execute_result"
    }
   ],
   "source": [
    "a_reg_poor=a_reg.query('revenue < 37000')\n",
    "a_reg_poor"
   ]
  },
  {
   "cell_type": "code",
   "execution_count": 101,
   "metadata": {},
   "outputs": [
    {
     "data": {
      "text/plain": [
       "<matplotlib.axes._subplots.AxesSubplot at 0x7f5288247160>"
      ]
     },
     "execution_count": 101,
     "metadata": {},
     "output_type": "execute_result"
    },
    {
     "data": {
      "image/png": "[encoded data removed]",
      "text/plain": [
       "<Figure size 432x288 with 1 Axes>"
      ]
     },
     "metadata": {
      "needs_background": "light"
     },
     "output_type": "display_data"
    }
   ],
   "source": [
    "a_reg_poor.reg_date.hist(color='blue', alpha=0.5, bins=30)"
   ]
  },
  {
   "cell_type": "code",
   "execution_count": 102,
   "metadata": {},
   "outputs": [
    {
     "data": {
      "image/png": "[encoded data removed]",
      "text/plain": [
       "<Figure size 1440x432 with 1 Axes>"
      ]
     },
     "metadata": {
      "needs_background": "light"
     },
     "output_type": "display_data"
    }
   ],
   "source": [
    "plt.figure(figsize=(20, 6))\n",
    "\n",
    "sns.kdeplot(a_reg_rich['reg_date'], color='red', label='Rich', fill=True, alpha=0.5)\n",
    "sns.kdeplot(a_reg_poor['reg_date'], color='blue', label='Poor', fill=True, alpha=0.5)\n",
    "\n",
    "plt.title('Графики плотности распределения дат регистрации')\n",
    "plt.xlabel('Дата регистрации')\n",
    "plt.ylabel('Плотность')\n",
    "plt.legend(loc='upper right')\n",
    "plt.show()"
   ]
  },
  {
   "cell_type": "markdown",
   "metadata": {},
   "source": [
    "Вывод: влияние даты регистрации на количество выручки, получаемой с пользователя не велико. Таким образом я отвергла свою теорию о том, что свыше 37000 мы получаем от старых преданных пользователей, к примеру."
   ]
  },
  {
   "cell_type": "markdown",
   "metadata": {},
   "source": [
    "Теперь можно посмотреть, есть ли различия в контрольной и тестовой группе по датам регистрации."
   ]
  },
  {
   "cell_type": "code",
   "execution_count": 103,
   "metadata": {},
   "outputs": [
    {
     "data": {
      "text/html": [
       "<div>\n",
       "<style scoped>\n",
       "    .dataframe tbody tr th:only-of-type {\n",
       "        vertical-align: middle;\n",
       "    }\n",
       "\n",
       "    .dataframe tbody tr th {\n",
       "        vertical-align: top;\n",
       "    }\n",
       "\n",
       "    .dataframe thead th {\n",
       "        text-align: right;\n",
       "    }\n",
       "</style>\n",
       "<table border=\"1\" class=\"dataframe\">\n",
       "  <thead>\n",
       "    <tr style=\"text-align: right;\">\n",
       "      <th></th>\n",
       "      <th>uid</th>\n",
       "      <th>revenue</th>\n",
       "      <th>testgroup</th>\n",
       "      <th>reg_date</th>\n",
       "    </tr>\n",
       "  </thead>\n",
       "  <tbody>\n",
       "    <tr>\n",
       "      <th>0</th>\n",
       "      <td>1</td>\n",
       "      <td>0</td>\n",
       "      <td>b</td>\n",
       "      <td>1998-11-18</td>\n",
       "    </tr>\n",
       "    <tr>\n",
       "      <th>1</th>\n",
       "      <td>2</td>\n",
       "      <td>0</td>\n",
       "      <td>a</td>\n",
       "      <td>1999-07-22</td>\n",
       "    </tr>\n",
       "    <tr>\n",
       "      <th>2</th>\n",
       "      <td>3</td>\n",
       "      <td>0</td>\n",
       "      <td>a</td>\n",
       "      <td>2000-01-13</td>\n",
       "    </tr>\n",
       "    <tr>\n",
       "      <th>3</th>\n",
       "      <td>4</td>\n",
       "      <td>0</td>\n",
       "      <td>b</td>\n",
       "      <td>2000-05-28</td>\n",
       "    </tr>\n",
       "    <tr>\n",
       "      <th>4</th>\n",
       "      <td>5</td>\n",
       "      <td>0</td>\n",
       "      <td>b</td>\n",
       "      <td>2000-09-16</td>\n",
       "    </tr>\n",
       "    <tr>\n",
       "      <th>...</th>\n",
       "      <td>...</td>\n",
       "      <td>...</td>\n",
       "      <td>...</td>\n",
       "      <td>...</td>\n",
       "    </tr>\n",
       "    <tr>\n",
       "      <th>364550</th>\n",
       "      <td>404766</td>\n",
       "      <td>0</td>\n",
       "      <td>a</td>\n",
       "      <td>2019-01-18</td>\n",
       "    </tr>\n",
       "    <tr>\n",
       "      <th>364551</th>\n",
       "      <td>404767</td>\n",
       "      <td>0</td>\n",
       "      <td>b</td>\n",
       "      <td>2019-01-18</td>\n",
       "    </tr>\n",
       "    <tr>\n",
       "      <th>364552</th>\n",
       "      <td>404768</td>\n",
       "      <td>231</td>\n",
       "      <td>a</td>\n",
       "      <td>2019-01-18</td>\n",
       "    </tr>\n",
       "    <tr>\n",
       "      <th>364553</th>\n",
       "      <td>404769</td>\n",
       "      <td>0</td>\n",
       "      <td>a</td>\n",
       "      <td>2019-01-18</td>\n",
       "    </tr>\n",
       "    <tr>\n",
       "      <th>364554</th>\n",
       "      <td>404770</td>\n",
       "      <td>0</td>\n",
       "      <td>b</td>\n",
       "      <td>2019-01-18</td>\n",
       "    </tr>\n",
       "  </tbody>\n",
       "</table>\n",
       "<p>364555 rows × 4 columns</p>\n",
       "</div>"
      ],
      "text/plain": [
       "           uid  revenue testgroup   reg_date\n",
       "0            1        0         b 1998-11-18\n",
       "1            2        0         a 1999-07-22\n",
       "2            3        0         a 2000-01-13\n",
       "3            4        0         b 2000-05-28\n",
       "4            5        0         b 2000-09-16\n",
       "...        ...      ...       ...        ...\n",
       "364550  404766        0         a 2019-01-18\n",
       "364551  404767        0         b 2019-01-18\n",
       "364552  404768      231         a 2019-01-18\n",
       "364553  404769        0         a 2019-01-18\n",
       "364554  404770        0         b 2019-01-18\n",
       "\n",
       "[364555 rows x 4 columns]"
      ]
     },
     "execution_count": 103,
     "metadata": {},
     "output_type": "execute_result"
    }
   ],
   "source": [
    "ab_reg"
   ]
  },
  {
   "cell_type": "code",
   "execution_count": 104,
   "metadata": {},
   "outputs": [
    {
     "data": {
      "text/html": [
       "<div>\n",
       "<style scoped>\n",
       "    .dataframe tbody tr th:only-of-type {\n",
       "        vertical-align: middle;\n",
       "    }\n",
       "\n",
       "    .dataframe tbody tr th {\n",
       "        vertical-align: top;\n",
       "    }\n",
       "\n",
       "    .dataframe thead th {\n",
       "        text-align: right;\n",
       "    }\n",
       "</style>\n",
       "<table border=\"1\" class=\"dataframe\">\n",
       "  <thead>\n",
       "    <tr style=\"text-align: right;\">\n",
       "      <th></th>\n",
       "      <th>uid</th>\n",
       "      <th>revenue</th>\n",
       "      <th>testgroup</th>\n",
       "      <th>reg_date</th>\n",
       "    </tr>\n",
       "  </thead>\n",
       "  <tbody>\n",
       "    <tr>\n",
       "      <th>0</th>\n",
       "      <td>1</td>\n",
       "      <td>0</td>\n",
       "      <td>b</td>\n",
       "      <td>1998-11-18</td>\n",
       "    </tr>\n",
       "    <tr>\n",
       "      <th>3</th>\n",
       "      <td>4</td>\n",
       "      <td>0</td>\n",
       "      <td>b</td>\n",
       "      <td>2000-05-28</td>\n",
       "    </tr>\n",
       "    <tr>\n",
       "      <th>4</th>\n",
       "      <td>5</td>\n",
       "      <td>0</td>\n",
       "      <td>b</td>\n",
       "      <td>2000-09-16</td>\n",
       "    </tr>\n",
       "    <tr>\n",
       "      <th>5</th>\n",
       "      <td>6</td>\n",
       "      <td>0</td>\n",
       "      <td>b</td>\n",
       "      <td>2000-12-19</td>\n",
       "    </tr>\n",
       "    <tr>\n",
       "      <th>6</th>\n",
       "      <td>7</td>\n",
       "      <td>0</td>\n",
       "      <td>b</td>\n",
       "      <td>2001-03-10</td>\n",
       "    </tr>\n",
       "    <tr>\n",
       "      <th>...</th>\n",
       "      <td>...</td>\n",
       "      <td>...</td>\n",
       "      <td>...</td>\n",
       "      <td>...</td>\n",
       "    </tr>\n",
       "    <tr>\n",
       "      <th>364546</th>\n",
       "      <td>404762</td>\n",
       "      <td>0</td>\n",
       "      <td>b</td>\n",
       "      <td>2019-01-18</td>\n",
       "    </tr>\n",
       "    <tr>\n",
       "      <th>364548</th>\n",
       "      <td>404764</td>\n",
       "      <td>0</td>\n",
       "      <td>b</td>\n",
       "      <td>2019-01-18</td>\n",
       "    </tr>\n",
       "    <tr>\n",
       "      <th>364549</th>\n",
       "      <td>404765</td>\n",
       "      <td>0</td>\n",
       "      <td>b</td>\n",
       "      <td>2019-01-18</td>\n",
       "    </tr>\n",
       "    <tr>\n",
       "      <th>364551</th>\n",
       "      <td>404767</td>\n",
       "      <td>0</td>\n",
       "      <td>b</td>\n",
       "      <td>2019-01-18</td>\n",
       "    </tr>\n",
       "    <tr>\n",
       "      <th>364554</th>\n",
       "      <td>404770</td>\n",
       "      <td>0</td>\n",
       "      <td>b</td>\n",
       "      <td>2019-01-18</td>\n",
       "    </tr>\n",
       "  </tbody>\n",
       "</table>\n",
       "<p>182573 rows × 4 columns</p>\n",
       "</div>"
      ],
      "text/plain": [
       "           uid  revenue testgroup   reg_date\n",
       "0            1        0         b 1998-11-18\n",
       "3            4        0         b 2000-05-28\n",
       "4            5        0         b 2000-09-16\n",
       "5            6        0         b 2000-12-19\n",
       "6            7        0         b 2001-03-10\n",
       "...        ...      ...       ...        ...\n",
       "364546  404762        0         b 2019-01-18\n",
       "364548  404764        0         b 2019-01-18\n",
       "364549  404765        0         b 2019-01-18\n",
       "364551  404767        0         b 2019-01-18\n",
       "364554  404770        0         b 2019-01-18\n",
       "\n",
       "[182573 rows x 4 columns]"
      ]
     },
     "execution_count": 104,
     "metadata": {},
     "output_type": "execute_result"
    }
   ],
   "source": [
    "b_reg=ab_reg.query('testgroup==\"b\"')\n",
    "b_reg"
   ]
  },
  {
   "cell_type": "code",
   "execution_count": 105,
   "metadata": {},
   "outputs": [
    {
     "data": {
      "image/png": "[encoded data removed]",
      "text/plain": [
       "<Figure size 1440x432 with 1 Axes>"
      ]
     },
     "metadata": {
      "needs_background": "light"
     },
     "output_type": "display_data"
    }
   ],
   "source": [
    "plt.figure(figsize=(20, 6))\n",
    "\n",
    "sns.kdeplot(a_reg['reg_date'], color='blue', label='Контрольная группа', fill=True, alpha=0.5)\n",
    "sns.kdeplot(b_reg['reg_date'], color='red', label='Тестовая группа', fill=True, alpha=0.5)\n",
    "\n",
    "plt.title('Графики плотности распределения дат регистрации')\n",
    "plt.xlabel('Дата регистрации')\n",
    "plt.ylabel('Плотность')\n",
    "plt.legend(loc='upper right')\n",
    "plt.show()"
   ]
  },
  {
   "cell_type": "markdown",
   "metadata": {},
   "source": [
    "Нет, разницы нет, похоже, выборки были сделаны случайно."
   ]
  },
  {
   "cell_type": "markdown",
   "metadata": {},
   "source": [
    "##### ------------------------------------------------------------------------------------------------------------------------------------------------------------------------------------------------------"
   ]
  },
  {
   "cell_type": "markdown",
   "metadata": {},
   "source": [
    "# ВЫВОДЫ:"
   ]
  },
  {
   "cell_type": "markdown",
   "metadata": {},
   "source": [
    "Результаты неоднозначны. У контрольной группы и тестовой не сильно различаются показатели средней выручки, конверсий и в целом разных метрик, однако сам характер распределения выручки по пользователям меняется кардинально. Анализируя данные, у меня не получилось разобраться в причинах таких изменений, возможно, для этого требуется дополнительная информация о компании, о пользователях мобильной игры, а также о характеристиках акционных предложений. Если делать вывод, то моя логика подсказывает, что компании лучше, если её важнейшие показатели зависят не всего лишь от сотни человек, которые платят сверхмного (123 таких человека в контрольной группе, 123 человека – это 6,4% от всех платящих пользователей из этой группы), а когда выручка распределена относительно равномерно среди всех платящих игроков, в таком случае положение становится более устойчивым. К тому же различия в конверсиях оказались стат.значимы, следовательно акционное предложение тестовой группы лучше стимулирует игроков на покупки. Таким образом, я считаю набор предложений для тестовой группы лучшим, однако принятие решение очень зависит и от сторонних факторов, таких как стратегический менеджмент мобильного приложения и других.\n",
    "P.S. Важно заметить, что дизайн эксперимента выглядит нарушенным, а сплитование, похоже, проведено некорректно. Перед окончательным решением я бы посоветовала подобрать более репрезентативные выборки и перезапустить эксперимент, чтобы результат был более уверенным. Однако всё зависит от условий компании."
   ]
  },
  {
   "cell_type": "markdown",
   "metadata": {},
   "source": [
    "# 3. В игре Plants & Gardens каждый месяц проводятся тематические события, ограниченные по времени. В них игроки могут получить уникальные предметы для сада и персонажей, дополнительные монеты или бонусы. Для получения награды требуется пройти ряд уровней за определенное время. С помощью каких метрик можно оценить результаты последнего прошедшего события? Предположим, в другом событии мы усложнили механику событий так, что при каждой неудачной попытке выполнения уровня игрок будет откатываться на несколько уровней назад. Изменится ли набор метрик оценки результата? Если да, то как?"
   ]
  },
  {
   "cell_type": "markdown",
   "metadata": {},
   "source": [
    "Существует множество простых и множество сложных метрик для оценки результатов события, я же предлагаю следующие:"
   ]
  },
  {
   "cell_type": "markdown",
   "metadata": {},
   "source": [
    "1.   Участие в событии:\n",
    "   - Количество игроков, принявших участие в событии.\n",
    "   - Доля активных игроков, принявших участие в событии (предварительно необходимо определить понятие \"активных игроков\", например, те, кто заходят в игру  не меньше 1 раза в неделю).\n",
    "   - Доля новичков, участвующих в событии (предварительно определить понятие \"новичок\", например, пользователи, зарегистрировавшиеся не ранее чем за неделю до события).\n"
   ]
  },
  {
   "cell_type": "markdown",
   "metadata": {},
   "source": [
    "2. Успешность прохождения:\n",
    "   - Процент игроков, завершивших событие полностью ((количество завершивших / количество участвующих)*100%).\n",
    "   - Средний уровень, до которого игроки дошли в событии ((сумма значений уровня, до которого дошел пользователь / количество участвующих)*100%)."
   ]
  },
  {
   "cell_type": "markdown",
   "metadata": {},
   "source": [
    "3. Частота попыток:\n",
    "   - Среднее количество попыток на игрока для завершения всех уровней события.\n",
    "   - Количество попыток, которые потребовались игрокам для прохождения отдельных уровней."
   ]
  },
  {
   "cell_type": "markdown",
   "metadata": {},
   "source": [
    "4. Время прохождения:\n",
    "   - Среднее время, затраченное на завершение события.\n",
    "   - Среднее время прохождения одного уровня."
   ]
  },
  {
   "cell_type": "markdown",
   "metadata": {},
   "source": [
    "5. Монетизация и вовлеченность:\n",
    "   - Количество и сумма внутриигровых покупок, совершённых во время события (например, для покупки дополнительных попыток или усилений).\n",
    "   - Изменение вовлеченности игроков (например, частота входа в игру) на период события.\n",
    "\n"
   ]
  },
  {
   "cell_type": "markdown",
   "metadata": {},
   "source": [
    "Если механика события усложнится, и при каждой неудачной попытке игрок будет откатываться назад, это может повлиять на набор метрик. Ключевые изменения:\n"
   ]
  },
  {
   "cell_type": "markdown",
   "metadata": {},
   "source": [
    "1. Частота неудачных попыток:\n",
    "   - Количество неудачных попыток до завершения события может значительно возрасти.\n",
    "   - Среднее количество откатов на игрока. Это новая метрика, которая будет показывать, сколько раз игроки откатывались назад."
   ]
  },
  {
   "cell_type": "markdown",
   "metadata": {},
   "source": [
    "2. Продолжительность прохождения:\n",
    "   - Среднее время завершения события может увеличиться из-за усложненной механики.\n",
    "   - Время, проведенное на каждом уровне, также может измениться, так как игрокам потребуется больше попыток."
   ]
  },
  {
   "cell_type": "markdown",
   "metadata": {},
   "source": [
    "3. Уровень прогресса игроков:\n",
    "   - Поскольку откаты затрудняют прохождение, метрика среднего уровня, до которого дошли игроки, может снизиться.\n",
    "   - Количество игроков, не завершивших событие, также может увеличиться, что отразится на проценте успешности."
   ]
  },
  {
   "cell_type": "markdown",
   "metadata": {},
   "source": [
    "4. Частота внутриигровых покупок:\n",
    "   - Можно ожидать увеличение покупок усилений, дополнительных жизней или попыток, так как игрокам потребуется больше ресурсов для преодоления уровня."
   ]
  },
  {
   "cell_type": "markdown",
   "metadata": {},
   "source": [
    "5. Отказ от события:\n",
    "   - Показатель отказа (доля игроков, которые прекратили участие в событии из-за его сложности) может вырасти, и это стоит отслеживать, чтобы понять влияние усложненной механики на удержание игроков."
   ]
  }
 ],
 "metadata": {
  "kernelspec": {
   "display_name": "Python 3",
   "language": "python",
   "name": "python3"
  },
  "language_info": {
   "codemirror_mode": {
    "name": "ipython",
    "version": 3
   },
   "file_extension": ".py",
   "mimetype": "text/x-python",
   "name": "python",
   "nbconvert_exporter": "python",
   "pygments_lexer": "ipython3",
   "version": "3.7.3"
  }
 },
 "nbformat": 4,
 "nbformat_minor": 4
}
